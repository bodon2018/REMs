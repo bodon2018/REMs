{
 "cells": [
  {
   "cell_type": "markdown",
   "metadata": {},
   "source": [
    "# Simulating Network Deliberation "
   ]
  },
  {
   "cell_type": "code",
   "execution_count": null,
   "metadata": {},
   "outputs": [],
   "source": [
    "# Configure plotting in Jupyter\n",
    "from matplotlib import pyplot as plt\n",
    "%matplotlib inline\n",
    "plt.rcParams.update({\n",
    "    'figure.figsize': (7.5, 7.5),\n",
    "    'axes.spines.right': False,\n",
    "    'axes.spines.left': False,\n",
    "    'axes.spines.top': False,\n",
    "    'axes.spines.bottom': False})\n",
    "# Seed random number generator\n",
    "import random\n",
    "from numpy import random as nprand"
   ]
  },
  {
   "cell_type": "code",
   "execution_count": null,
   "metadata": {},
   "outputs": [],
   "source": [
    "# Import NetworkX\n",
    "import networkx as nx\n",
    "import numpy as np"
   ]
  },
  {
   "cell_type": "code",
   "execution_count": null,
   "metadata": {},
   "outputs": [],
   "source": [
    "import numpy as np"
   ]
  },
  {
   "cell_type": "markdown",
   "metadata": {},
   "source": [
    "### Assign nodes to groups "
   ]
  },
  {
   "cell_type": "code",
   "execution_count": null,
   "metadata": {},
   "outputs": [],
   "source": [
    "from learning import *"
   ]
  },
  {
   "cell_type": "code",
   "execution_count": null,
   "metadata": {},
   "outputs": [],
   "source": [
    "from topologies import *"
   ]
  },
  {
   "cell_type": "markdown",
   "metadata": {},
   "source": [
    "## Clique"
   ]
  },
  {
   "cell_type": "code",
   "execution_count": null,
   "metadata": {},
   "outputs": [],
   "source": [
    "#Uses a clique \n",
    "\n",
    "\n",
    "N = 100 #num of participants(nodes)\n",
    "M = 7 #group size\n",
    "stages = 3  #stages\n",
    "true_value = [1, 1, 1, 0, 1, 0, 1, 1, 0, 1, 0, 1] #ground truth \n",
    "steps = 5 #number of steps in each learning stratey\n",
    "\n",
    "G = nx.complete_graph(N)\n",
    "G = nx.complete_graph(range(0, N - 1))\n",
    "#list(G.nodes())\n",
    "#nx.draw(G)\n",
    "\n",
    "beliefs_stages = []\n",
    "#print(\"To keep beliefs after stages\", beliefs_stages)\n",
    "\n",
    "for stage in range(stages + 1): \n",
    "    if stage == 0: \n",
    "        ini_beliefs = initial_beliefs_noisy(G, true_value, p_error= .40)\n",
    "        #print(\"Stage #\", stage)\n",
    "        #print(\"The initial beliefs at stage\", stage, \"are\", ini_beliefs)\n",
    "        beliefs_list =  learn(G, ini_beliefs, learning_step_best_neighbor, true_value, steps)\n",
    "        beliefs_stages += beliefs_list\n",
    "        #print(\"Beliefs at stage\", stage, \"after learn() are\", beliefs_stages)\n",
    "        \n",
    "    else:\n",
    "        sub_ini_beliefs = beliefs_list[-1]\n",
    "        #print(\"Stage #\", stage)\n",
    "        #print(\"The initial beliefs at stage\", stage, \"are\", sub_ini_beliefs)\n",
    "        beliefs_list = learn(G, sub_ini_beliefs, learning_step_best_neighbor, true_value, steps)\n",
    "        beliefs_stages += beliefs_list\n",
    "        #print(\"Beliefs at\", stage, \"after learn() are\", beliefs_stages)\n",
    "        \n",
    "#print(\"beliefs of all stages\", beliefs_stages)\n",
    "\n",
    "plot_beliefs_correct(beliefs_stages, true_value)"
   ]
  },
  {
   "cell_type": "markdown",
   "metadata": {},
   "source": [
    "## Long path topology"
   ]
  },
  {
   "cell_type": "code",
   "execution_count": null,
   "metadata": {},
   "outputs": [],
   "source": [
    "##Uses a long path topology\n",
    "\n",
    "N = 100 #num of participants(nodes)\n",
    "M = 7 #group size\n",
    "stages = 3  #stages\n",
    "true_value = [1, 1, 1, 0, 1, 0, 1, 1, 0, 1, 0, 1] #ground truth \n",
    "steps = 5 #number of steps in each learning stratey\n",
    "\n",
    "    \n",
    "beliefs_stages = []\n",
    "print(\"To keep beliefs after stages\", beliefs_stages)\n",
    "\n",
    "\n",
    "for stage in range(stages + 1):\n",
    "    groups = get_long_path_stage_groups(N, M, stage)\n",
    "    #print(\"all the groups\", groups)\n",
    "    for group in groups:\n",
    "        #print(\"group in groups\", group) #nodes to form clique network\n",
    "        g = nx.complete_graph(group) #clique network\n",
    "        #print(\"clique network\", g.nodes())\n",
    "        #nx.draw(g)\n",
    "        #adds cliques to a network \n",
    "        G = nx.complete_graph(N)  ##NOT SURE IF THIS ONE IS right//should i use empty_graph instead? \n",
    "        G.add_edges_from(g.edges())\n",
    "        G.add_nodes_from(g.nodes())\n",
    "    #print(\"All the edges in graph G are\", G.nodes())\n",
    "    #nx.draw(G)\n",
    "    if stage == 0: \n",
    "        ini_beliefs = initial_beliefs_noisy(G, true_value, p_error= .40)\n",
    "        #print(\"Stage #\", stage)\n",
    "        #print(\"The initial beliefs at stage\", stage, \"are\", ini_beliefs)\n",
    "        beliefs_list =  learn(G, ini_beliefs, learning_step_best_neighbor, true_value, steps)\n",
    "        beliefs_stages += beliefs_list\n",
    "        #print(\"Beliefs at stage\", stage, \"after learn() are\", beliefs_stages)\n",
    "\n",
    "    else:\n",
    "        sub_ini_beliefs = beliefs_list[-1]\n",
    "        #print(\"Stage #\", stage)\n",
    "        #print(\"The initial beliefs at stage\", stage, \"are\", sub_ini_beliefs)\n",
    "        beliefs_list = learn(G, sub_ini_beliefs, learning_step_best_neighbor, true_value, steps)\n",
    "        beliefs_stages += beliefs_list\n",
    "        #print(\"Beliefs at\", stage, \"after learn() are\", beliefs_stages)\n",
    "        \n",
    "#print(\"beliefs of all stages\", beliefs_stages)\n",
    "\n",
    "plot_beliefs_correct(beliefs_stages, true_value)"
   ]
  },
  {
   "cell_type": "markdown",
   "metadata": {},
   "source": [
    "## Random Topology"
   ]
  },
  {
   "cell_type": "code",
   "execution_count": null,
   "metadata": {},
   "outputs": [],
   "source": [
    "##Uses a random topology\n",
    "\n",
    "#get_random_stage_groups()\n",
    "\n",
    "N = 100 #num of participants(nodes)\n",
    "M = 7 #group size\n",
    "stages = 3  #stages\n",
    "true_value = [1, 1, 1, 0, 1, 0, 1, 1, 0, 1, 0, 1] #ground truth \n",
    "steps = 5 #number of steps in each learning stratey\n",
    "\n",
    "    \n",
    "beliefs_stages = []\n",
    "print(\"To keep beliefs after stages\", beliefs_stages)\n",
    "\n",
    "\n",
    "for stage in range(stages + 1):\n",
    "    groups = get_random_stage_groups(N, M, stage)\n",
    "    #print(\"all the groups\", groups)\n",
    "    for group in groups:\n",
    "        #print(\"group in groups\", group) #nodes to form clique network\n",
    "        g = nx.complete_graph(group) #clique network\n",
    "        #print(\"clique network\", g.nodes())\n",
    "        #nx.draw(g)\n",
    "        #adds cliques to a network \n",
    "        G = nx.complete_graph(N)  ##NOT SURE IF THIS ONE IS right//should i use empty_graph instead? \n",
    "        G.add_edges_from(g.edges())\n",
    "        G.add_nodes_from(g.nodes())\n",
    "    #print(\"All the edges in graph G are\", G.nodes())\n",
    "    #nx.draw(G)\n",
    "    if stage == 0: \n",
    "        ini_beliefs = initial_beliefs_noisy(G, true_value, p_error= .40)\n",
    "        #print(\"Stage #\", stage)\n",
    "        #print(\"The initial beliefs at stage\", stage, \"are\", ini_beliefs)\n",
    "        beliefs_list =  learn(G, ini_beliefs, learning_step_best_neighbor, true_value, steps)\n",
    "        beliefs_stages += beliefs_list\n",
    "        #print(\"Beliefs at stage\", stage, \"after learn() are\", beliefs_stages)\n",
    "\n",
    "    else:\n",
    "        sub_ini_beliefs = beliefs_list[-1]\n",
    "        #print(\"Stage #\", stage)\n",
    "        #print(\"The initial beliefs at stage\", stage, \"are\", sub_ini_beliefs)\n",
    "        beliefs_list = learn(G, sub_ini_beliefs, learning_step_best_neighbor, true_value, steps)\n",
    "        beliefs_stages += beliefs_list\n",
    "        #print(\"Beliefs at\", stage, \"after learn() are\", beliefs_stages)\n",
    "        \n",
    "#print(\"beliefs of all stages\", beliefs_stages)\n",
    "\n",
    "plot_beliefs_correct(beliefs_stages, true_value)\n",
    "\n",
    "\n"
   ]
  },
  {
   "cell_type": "code",
   "execution_count": null,
   "metadata": {},
   "outputs": [],
   "source": []
  },
  {
   "cell_type": "markdown",
   "metadata": {},
   "source": [
    "# Plotting"
   ]
  },
  {
   "cell_type": "code",
   "execution_count": null,
   "metadata": {},
   "outputs": [],
   "source": [
    "G = nx.karate_club_graph()\n",
    "plt.subplot(1, 1, 1)\n",
    "plt.title(\"Karate club\")\n",
    "true_value=[1, 0, 1, 0, 1]\n",
    "\n",
    "ini_beliefs = initial_beliefs_noisy(G, true_value, p_error= .20)\n",
    "\n",
    "\n",
    "beliefs_list =  learn(G, ini_beliefs, most_popular_list, true_value, steps = 100)\n",
    "plot_beliefs_correct(beliefs_list, true_value)"
   ]
  },
  {
   "cell_type": "code",
   "execution_count": null,
   "metadata": {},
   "outputs": [],
   "source": [
    "G = nx.karate_club_graph()\n",
    "plt.subplot(1, 4, 1)\n",
    "plt.title(\"Karate club\")\n",
    "true_value = [1, 0, 1, 0, 1]\n",
    "ini_beliefs = initial_beliefs_noisy(G, true_value, p_error= .20)\n",
    "\n",
    "beliefs_list =  learn(G, ini_beliefs, rand_neighbor_list, true_value, steps = 100)\n",
    "plot_beliefs_correct(beliefs_list, true_value)\n",
    "\n",
    "plt.subplot(1, 4, 2)\n",
    "beliefs_list =  learn(G, ini_beliefs, random_neighbor_bit, true_value, steps = 100)\n",
    "plot_beliefs_correct(beliefs_list, true_value)\n",
    "\n",
    "plt.subplot(1, 4, 3)\n",
    "beliefs_list =  learn(G, ini_beliefs, most_popular_list, true_value, steps = 100)\n",
    "plot_beliefs_correct(beliefs_list, true_value)\n",
    "\n",
    "plt.subplot(1, 4, 4)\n",
    "beliefs_list =  learn(G, ini_beliefs, learning_step_best_neighbor, true_value, steps = 100)\n",
    "plot_beliefs_correct(beliefs_list, true_value)\n",
    "\n",
    "\n",
    "#plot_belief_bits_correct(beliefs_list, true_value = [1, 0, 1, 0, 1])\n",
    "plt.tight_layout()"
   ]
  },
  {
   "cell_type": "code",
   "execution_count": null,
   "metadata": {},
   "outputs": [],
   "source": [
    "G = nx.karate_club_graph()\n",
    "plt.subplot(1, 1, 1)\n",
    "plt.title(\"Karate club\")\n",
    "true_value=[1, 0, 1, 0, 1]\n",
    "\n",
    "ini_beliefs = initial_beliefs_noisy(G, true_value, p_error= .40)\n",
    "beliefs_list =  learn(G, ini_beliefs, learning_step_bit_majority, true_value, steps = 10)\n",
    "plot_beliefs_correct(beliefs_list, true_value)\n",
    "plt.tight_layout()"
   ]
  },
  {
   "cell_type": "code",
   "execution_count": null,
   "metadata": {},
   "outputs": [],
   "source": [
    "G = nx.karate_club_graph()\n",
    "plt.subplot(1, 1, 1)\n",
    "plt.title(\"Karate club\")\n",
    "true_value=[1, 0, 1, 0, 1]\n",
    "\n",
    "ini_beliefs = initial_beliefs_noisy(G, true_value, p_error= .40)\n",
    "beliefs_list =  learn(G, ini_beliefs, random_neighbor_bit, true_value, steps = 10)\n",
    "plot_beliefs_correct(beliefs_list, true_value)\n",
    "plt.tight_layout()"
   ]
  },
  {
   "cell_type": "markdown",
   "metadata": {},
   "source": [
    "## old code "
   ]
  },
  {
   "cell_type": "raw",
   "metadata": {},
   "source": [
    "G = sg.subgraph(nodes)\n",
    "plt.subplot(1, 1, 1)\n",
    "plt.title(\"Karate club\")\n",
    "true_value = [1, 0, 1, 0, 1]\n",
    "ini_beliefs = initial_beliefs_noisy(G, true_value, p_error= .20)\n",
    "\n",
    "beliefs_list =  learn(G, ini_beliefs, learning_step_best_neighbor, true_value, steps = 500)\n",
    "plot_beliefs_correct(beliefs_list, true_value)"
   ]
  },
  {
   "cell_type": "raw",
   "metadata": {},
   "source": [
    "def create_clique_network(G, beliefs_list, stage):\n",
    "    \"\"\"Takes a graph and makes cliques\n",
    "    \n",
    "    #Params \n",
    "    G: graph that will be use to make cliques \n",
    "    belief_list: list of beliefs \n",
    "    degree: number of degrees require to form cliques?\n",
    "    stage: stages of learning\n",
    "    \n",
    "    Return \n",
    "    list of beliefs\n",
    "    \"\"\"\n",
    "    beliefs = []\n",
    "    \n",
    "    cliques1 = list(nx.find_cliques(G))\n",
    "    print(cliques1)\n",
    "\n",
    "     #Find all cliques of degree (clq) X (here 4) or more nodes:\n",
    "    cliques = nx.find_cliques(G)\n",
    "    cliques4 = [clq for clq in cliques if len(clq) >= 4]\n",
    "    print(\"Cliques with degree 4 or higher\", cliques4)\n",
    "\n",
    "\n",
    "    #subgraph of g from all sufficiently large cliques:\n",
    "    nodes = set(v for clq in cliques4 for v in clq)\n",
    "    clq_sub_graph = G.subgraph(nodes)\n",
    "    print(\"Nodes of subgraph where each node has degree 4:\", clq_sub_graph.nodes())\n",
    "\n",
    "    #Drop nodes of clq_sub_graph which have degree less than 4:\n",
    "    deg = nx.degree(clq_sub_graph)\n",
    "    nodes = [v for v in nodes if deg[v] >= 4]\n",
    "    print(\"Nodes\",nodes)\n",
    "\n",
    "    #The desired graph sg is the subgraph of clq_sub_graph with nodes:\n",
    "    sg = clq_sub_graph.subgraph(nodes)\n",
    "\n",
    "    #resulting graph:\n",
    "    nx.draw(sg)\n",
    "\n",
    "    return beliefs\n",
    "    "
   ]
  },
  {
   "cell_type": "raw",
   "metadata": {},
   "source": [
    "G = nx.karate_club_graph()\n",
    "cliques1 = list(nx.find_cliques(G))\n",
    "print(cliques1)\n",
    "\n",
    " #Find all cliques of degree (clq) X (here 4) or more nodes:\n",
    "cliques = nx.find_cliques(G)\n",
    "cliques4 = [clq for clq in cliques if len(clq) >= 4]\n",
    "print(\"Cliques with degree 4 or higher\", cliques4)\n",
    "\n",
    "\n",
    " #subgraph of g from all sufficiently large cliques:\n",
    "nodes = set(v for clq in cliques4 for v in clq)\n",
    "clq_sub_graph = G.subgraph(nodes)\n",
    "print(\"Nodes of subgraph where each node has degree 4:\", clq_sub_graph.nodes())\n",
    "\n",
    " #Drop nodes of clq_sub_graph which have degree less than 4:\n",
    "deg = nx.degree(clq_sub_graph)\n",
    "nodes = [v for v in nodes if deg[v] >= 4]\n",
    "print(\"Nodes\",nodes)\n",
    "\n",
    "#The desired graph sg is the subgraph of clq_sub_graph with nodes:\n",
    "sg = clq_sub_graph.subgraph(nodes)\n",
    "\n",
    "#resulting graph:\n",
    "nx.draw(sg)"
   ]
  },
  {
   "cell_type": "raw",
   "metadata": {},
   "source": [
    "### G = nx.complete_graph(9)\n",
    "len(G)\n",
    "G.size()\n",
    "\n",
    "G = nx.complete_graph(range(11, 14))\n",
    "list(G.nodes())\n",
    "#nx.draw(G)\n",
    "\n",
    "beliefs_stages = []\n",
    "print(\"To keep beliefs after stages\", beliefs_stages)\n",
    "\n",
    "stages = 5\n",
    "true_value = [1, 0, 1, 0, 1]\n",
    "steps = 10\n",
    "\n",
    "\n",
    "for stage in range(stages + 1): \n",
    "    #get groups from one of grouping functions\n",
    "    get_long_path_stage_groups()\n",
    "    \n",
    "    if stage == 1: \n",
    "        ini_beliefs = initial_beliefs_noisy(G, true_value, p_error= .40)\n",
    "        print(\"Stage #\", stage)\n",
    "        print(\"Stage\", stage, \"beliefs are\", ini_beliefs)\n",
    "        beliefs_list =  learn(G, ini_beliefs, random_neighbor_bit, true_value, steps)\n",
    "        beliefs_stages.append(beliefs_list)\n",
    "        print(\"stage\", stage, \"beliefs\", beliefs_stages)\n",
    "        \n",
    "    if stage > 1: \n",
    "        sub_ini_beliefs = beliefs_list[-1]\n",
    "        print(\"Stage #\", stage)\n",
    "        print(\"Ini beliefs are\", sub_ini_beliefs)\n",
    "        sub_beliefs_list = learn(G, sub_ini_beliefs, random_neighbor_bit, true_value, steps)\n",
    "        beliefs_stages.append(sub_beliefs_list)\n",
    "        print(\"stage\", stage, \"beliefs\", beliefs_stages)\n",
    "        \n",
    "print(\"beliefs of each stage\", beliefs_stages)\n",
    "\n",
    "plot_beliefs_correct(beliefs_list, true_value)"
   ]
  },
  {
   "cell_type": "raw",
   "metadata": {},
   "source": [
    "g = nx.complete_graph({2,5,6})\n",
    "nx.draw_networkx(g, with_lables=True)"
   ]
  },
  {
   "cell_type": "code",
   "execution_count": null,
   "metadata": {},
   "outputs": [],
   "source": []
  }
 ],
 "metadata": {
  "kernelspec": {
   "display_name": "Python 3",
   "language": "python",
   "name": "python3"
  },
  "language_info": {
   "codemirror_mode": {
    "name": "ipython",
    "version": 3
   },
   "file_extension": ".py",
   "mimetype": "text/x-python",
   "name": "python",
   "nbconvert_exporter": "python",
   "pygments_lexer": "ipython3",
   "version": "3.6.5"
  }
 },
 "nbformat": 4,
 "nbformat_minor": 2
}
