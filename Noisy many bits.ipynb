{
 "cells": [
  {
   "cell_type": "markdown",
   "metadata": {},
   "source": [
    "# Simulating Networks"
   ]
  },
  {
   "cell_type": "code",
   "execution_count": null,
   "metadata": {},
   "outputs": [],
   "source": [
    "# Configure plotting in Jupyter\n",
    "from matplotlib import pyplot as plt\n",
    "%matplotlib inline\n",
    "plt.rcParams.update({\n",
    "    'figure.figsize': (7.5, 7.5),\n",
    "    'axes.spines.right': False,\n",
    "    'axes.spines.left': False,\n",
    "    'axes.spines.top': False,\n",
    "    'axes.spines.bottom': False})\n",
    "# Seed random number generator\n",
    "import random\n",
    "from numpy import random as nprand"
   ]
  },
  {
   "cell_type": "code",
   "execution_count": null,
   "metadata": {},
   "outputs": [],
   "source": [
    "# Import NetworkX\n",
    "import networkx as nx\n",
    "import numpy as np"
   ]
  },
  {
   "cell_type": "code",
   "execution_count": null,
   "metadata": {},
   "outputs": [],
   "source": [
    "#to handle stats error in learning step // need to be more specific \n",
    "from statistics import mode\n",
    "from statistics import StatisticsError"
   ]
  },
  {
   "cell_type": "markdown",
   "metadata": {},
   "source": [
    "## Agent-Based Models"
   ]
  },
  {
   "cell_type": "markdown",
   "metadata": {},
   "source": [
    "### Part 1: Initial Beliefs \n",
    "    Input: List of probabilities that a bit = 1\n",
    "    Input: True value, probability error "
   ]
  },
  {
   "cell_type": "code",
   "execution_count": null,
   "metadata": {},
   "outputs": [],
   "source": [
    "G = nx.karate_club_graph()"
   ]
  },
  {
   "cell_type": "code",
   "execution_count": null,
   "metadata": {},
   "outputs": [],
   "source": [
    "def get_random_belief_bit (p):\n",
    "    \"\"\"Return a 1 with probability p and a 0 with probability (p - 1).\n",
    "    \n",
    "    # Params\n",
    "    p: The probability of returning a 1\n",
    "\n",
    "    # Return value\n",
    "    1 with probability p, 0 otherwise.\n",
    "    \"\"\"\n",
    "    \n",
    "    val = np.random.uniform(low=0, high=1, size = 1)\n",
    "    \n",
    "    if val < p:\n",
    "        x = 1\n",
    "    else: \n",
    "        x = 0\n",
    "    return x"
   ]
  },
  {
   "cell_type": "code",
   "execution_count": null,
   "metadata": {},
   "outputs": [],
   "source": [
    "#get_random_belief_bit (.5)"
   ]
  },
  {
   "cell_type": "code",
   "execution_count": null,
   "metadata": {},
   "outputs": [],
   "source": [
    "def get_random_belief (p1):\n",
    "    \"\"\"Get a random belief for a single agent.\n",
    "    \n",
    "    # Params\n",
    "    p1: A list of numbers between 0 and 1. Each element of p1 represents \n",
    "    the probability the corresponding element of the belief list should be 1.\n",
    "    \n",
    "    # Return\n",
    "    A list of length len(p1), with each element equal to 0 or 1.\n",
    "    \"\"\"\n",
    "    \n",
    "    list_bits = []\n",
    "\n",
    "    for p in p1:\n",
    "        bit = get_random_belief_bit(p)\n",
    "        list_bits.append(bit)\n",
    "    return list_bits"
   ]
  },
  {
   "cell_type": "code",
   "execution_count": null,
   "metadata": {
    "scrolled": true
   },
   "outputs": [],
   "source": [
    "#get_random_belief (p1 = [0, 0.5, 1])"
   ]
  },
  {
   "cell_type": "code",
   "execution_count": null,
   "metadata": {},
   "outputs": [],
   "source": [
    "def initial_beliefs(G, p1):\n",
    "    \n",
    "    \"\"\"Generate the initial beliefs for each node in graph G.\n",
    "    The number of bits is determined by len(p1). \n",
    "    If there are 5 bits, p1 should have 5 elements.\n",
    "\n",
    "    # Params\n",
    "    G: A graph\n",
    "    p1: an array of real numbers between 0 and 1. p1[i] is the \n",
    "    probability that the belief of bit i is 1.\n",
    "\n",
    "    # Return\n",
    "    A dict mapping nodes in G to lists of length len(p1).\n",
    "    \"\"\"\n",
    "    beliefs = {}\n",
    "    for v in G.nodes():\n",
    "        l_beliefs = []\n",
    "        list_bits = get_random_belief (p1) \n",
    "        l_beliefs = list_bits\n",
    "        beliefs[v] = l_beliefs\n",
    "    return beliefs"
   ]
  },
  {
   "cell_type": "code",
   "execution_count": null,
   "metadata": {},
   "outputs": [],
   "source": [
    "#initial_beliefs(G, p1 = [0, 0.5, 1])"
   ]
  },
  {
   "cell_type": "code",
   "execution_count": null,
   "metadata": {},
   "outputs": [],
   "source": [
    "def initial_beliefs_noisy(true_value, p_error):\n",
    "    '''Generates a list of beliefs with a probability error \n",
    "    #Params \n",
    "    true_value: A list of true bits\n",
    "    p_error: probability an error \n",
    "    \n",
    "    #Return \n",
    "    A dict of beliefs with a noise (p_error)\n",
    "    '''\n",
    "    \n",
    "    \n",
    "    p1 = []\n",
    "    \n",
    "    for bit in true_value:\n",
    "        \n",
    "        if bit == 1:\n",
    "            x =  1 - p_error\n",
    "            p1.append(x)\n",
    "            \n",
    "        else:\n",
    "            x = p_error\n",
    "            p1.append(x)\n",
    "    \n",
    "    beliefs = initial_beliefs(G, p1)\n",
    "    return beliefs"
   ]
  },
  {
   "cell_type": "code",
   "execution_count": null,
   "metadata": {},
   "outputs": [],
   "source": [
    "#initial_beliefs_noisy(true_value=[1], p_error= .40)"
   ]
  },
  {
   "cell_type": "markdown",
   "metadata": {},
   "source": [
    "## Part 2: Learning Strategies \n",
    "    Strategies:\n",
    "        Mode per coordinate (find_neighbor_bit_mode)\n",
    "        Random neighbor's value per coordinate (random_neighbor_bit(G, beliefs))\n",
    "        Random neighbor's entire list (rand_neighbor_list(G, beliefs))\n",
    "        Most popular list ()\n",
    "        Best neighboor: choose value from neighboors closest to the true value "
   ]
  },
  {
   "cell_type": "code",
   "execution_count": null,
   "metadata": {},
   "outputs": [],
   "source": [
    "def find_neighbor_bit_mode(G, v, beliefs, bit):\n",
    "    '''Among node v and its neighbors, find the most common belief in the specified bit.\n",
    "    ##This is a helper function to one of the learning strategies. \n",
    "    \n",
    "    # Params\n",
    "    G: a Graph\n",
    "    v: a node in G\n",
    "    beliefs: a dict mapping nodes of G to lists of 1s and 0s.\n",
    "    bit: An integer >= 0 corresponding an index of the belief lists.\n",
    "    \n",
    "    # Return value\n",
    "    The most common belief (at the specified bit) among v and its neighbors or beliefs[v][bit] if there is a tie.\n",
    "    '''\n",
    "    #for test\n",
    "    neighbors_bit_value = []\n",
    "    #include bit value of v in mode calculation\n",
    "    node_belief = beliefs[v]\n",
    "    try:\n",
    "        neighbors_bit_value.append(node_belief[bit])\n",
    "    except TypeError:\n",
    "        print(node_belief)\n",
    "    for w in G.neighbors(v):\n",
    "        neighbors_bit_value.append(beliefs[w][bit])\n",
    "        try:\n",
    "            popular_val = mode(neighbors_bit_value)\n",
    "        except StatisticsError: \n",
    "            popular_val = beliefs[v][bit]\n",
    "    return popular_val"
   ]
  },
  {
   "cell_type": "code",
   "execution_count": null,
   "metadata": {},
   "outputs": [],
   "source": [
    "#find_neighbor_bit_mode(G, v = 0, beliefs = initial_beliefs(G, p1 = [.0,1, 0.2]), bit = 2)"
   ]
  },
  {
   "cell_type": "code",
   "execution_count": null,
   "metadata": {},
   "outputs": [],
   "source": [
    "def most_popular_list(G, beliefs):\n",
    "    '''For a given node, choose the most popular list of beliefs among neighbors \n",
    "    NOTE: Still working on this one. \n",
    "    \n",
    "    #Params \n",
    "    G: a Graph\n",
    "    beliefs: a dict mapping nodes of G to lists of 1s and 0s.\n",
    "    \n",
    "    # Return value\n",
    "    The most popular list of beliefs among v's neighbors\n",
    "    '''\n",
    "    \n",
    "    new_beliefs = {}\n",
    "    \n",
    "    current_beliefs = dict(beliefs)# a dict of beliefs \n",
    "    #print(current_beliefs)\n",
    "\n",
    "    beliefs = [current_beliefs]#makes a list that contains a dict. Dict contains 34 nodes, each with a list of bits\n",
    "    #print(beliefs)\n",
    "        \n",
    "    #nodes = list(current_beliefs.keys()) #makes a list with 34 keys. no longer vals with it.\n",
    "    #print(nodes)\n",
    "    \n",
    "    \n",
    "    for v in G.nodes():\n",
    "        #print(current_beliefs[v]) # prints 34 nodes without values. just keys.\n",
    "        \n",
    "        neighboors_values = [] #hold v's neighboors keys\n",
    "        #print(neighboors_values)\n",
    "        \n",
    "        for w in G.neighbors(v):\n",
    "            neighboors_values.append(current_beliefs[w])\n",
    "        #print(v, \":\", neighboors_values)\n",
    "        for set_val in neighboors_values:\n",
    "            print(v, \":\", set_val)\n",
    "            \n",
    "    \n",
    "        try:\n",
    "            popular_val = mode(set_val)\n",
    "            #print(\"The pop is\", popular_val)\n",
    "        except StatisticsError: #import StatisticsError\n",
    "            new_beliefs[v] = current_beliefs[v]\n",
    "            #neighbors_values.append()\n",
    "        #print(popular_val)\n",
    "    #new_beliefs[v] = neighbors_values\n",
    "    #print(new_beliefs)\n",
    "            \n",
    "            \n",
    "        #one_neigh = random.choice(neighboors_keys)\n",
    "        \n",
    "        #vals_rand = beliefs[one_neigh] #here's the problem. it doesn't have the vals of neigh. only has the key\n",
    "        \n",
    "        #vals_rand = current_beliefs[one_neigh]# here's i solved it. \n",
    "        \n",
    "        #print(vals_rand)\n",
    "        \n",
    "        #new_beliefs[v] = vals_rand\n",
    "        #print(new_beliefs[v])\n",
    "    #return new_beliefs"
   ]
  },
  {
   "cell_type": "code",
   "execution_count": null,
   "metadata": {},
   "outputs": [],
   "source": [
    "#G = nx.karate_club_graph()\n",
    "#beliefs = initial_beliefs(G, p1 = [.29, .59, .09])\n",
    "#most_popular_list(G, beliefs)"
   ]
  },
  {
   "cell_type": "code",
   "execution_count": null,
   "metadata": {},
   "outputs": [],
   "source": [
    "def get_belief_bit_fraction(G, beliefs, bit):\n",
    "\n",
    "    '''Get the fraction of nodes that have 1 in given bit\n",
    "    Params \n",
    "    G: graph\n",
    "    beliefs: set of beliefs for each node\n",
    "    bit = given index\n",
    "    returns fraction of nodes that have a 1 in given bit. \n",
    "    '''\n",
    "    #fraction of nodes with 1 in given bit\n",
    "    \n",
    "    node_bit_value = []\n",
    "    for v in G.node():\n",
    "        #print(beliefs[v][bit])\n",
    "        node_bit_value.append(beliefs[v][bit]) \n",
    "        #print(beliefs, beliefs[v][bit])\n",
    "    #print(node_bit_value)\n",
    "    frac_nodes_one = sum(node_bit_value) / len(node_bit_value)\n",
    "    return frac_nodes_one"
   ]
  },
  {
   "cell_type": "code",
   "execution_count": null,
   "metadata": {},
   "outputs": [],
   "source": [
    "#get_belief_bit_fraction(G, beliefs = initial_beliefs(G, p1 = [.4732006, .45991]), bit = 0)"
   ]
  },
  {
   "cell_type": "code",
   "execution_count": null,
   "metadata": {},
   "outputs": [],
   "source": [
    "def random_neighbor_bit(G, beliefs):\n",
    "    '''For a given bit, choose a neighbor randomly an adopt its belief at given position\n",
    "    # Params\n",
    "    G: a Graph\n",
    "    beliefs: a dict mapping nodes of G to lists of 1s and 0s.\n",
    "    \n",
    "    # Return value\n",
    "    A list of belief where each bit is randomly chosen among v's neighbors\n",
    "    '''\n",
    "    new_beliefs = {}\n",
    "\n",
    "    \n",
    "    for v in G.nodes():\n",
    "        #print(beliefs[v])\n",
    "        num_bit = len(beliefs[v])\n",
    "        rand_beliefs = [] #temp list to hold new rand vals\n",
    "        \n",
    "        for bit in range(num_bit):\n",
    "            bit_val = [] #append all the neighs val at position bit\n",
    "            \n",
    "            for w in G.neighbors(v):\n",
    "                \n",
    "                vals_pos_bit = beliefs[w][bit] #first find the val at pos bit of each neigh, safe it in temp var\n",
    "                bit_val.append(vals_pos_bit) #add all the vals at position bit\n",
    "    \n",
    "        #print (bit_val)\n",
    "    \n",
    "            new_rand_val = random.choice(bit_val) # randomly select one of the vals      \n",
    "            rand_beliefs.append(new_rand_val) #add the randomly selected val to a temp list called rand_beliefs        \n",
    "        #print(rand_beliefs)\n",
    "            \n",
    "        new_beliefs[v] = rand_beliefs#assing the new rand vals to new beliefs \n",
    "        #print(new_beliefs)\n",
    "    return new_beliefs"
   ]
  },
  {
   "cell_type": "code",
   "execution_count": null,
   "metadata": {},
   "outputs": [],
   "source": [
    "#G = nx.karate_club_graph()\n",
    "#beliefs = initial_beliefs(G, p1 = [.29, .59, .09])\n",
    "#random_neighbor_bit(G, beliefs)"
   ]
  },
  {
   "cell_type": "code",
   "execution_count": null,
   "metadata": {},
   "outputs": [],
   "source": [
    "def rand_neighbor_list(G, beliefs):\n",
    "    '''For a given node, choose a neighboor randomly an adopt all its belief\n",
    "    \n",
    "    #Params \n",
    "    G: a Graph\n",
    "    beliefs: a dict mapping nodes of G to lists of 1s and 0s.\n",
    "    \n",
    "    # Return value\n",
    "    A list of belief where each bit is randomly chosen among v's neighbors\n",
    "    \n",
    "    '''\n",
    "    \n",
    "    new_beliefs = {}\n",
    "    \n",
    "    current_beliefs = dict(beliefs)# a dict of beliefs \n",
    "    #print(current_beliefs)\n",
    "\n",
    "    beliefs = [current_beliefs]#makes a list that contains a dict. Dict contains 34 nodes, each with a list of bits\n",
    "    #print(beliefs)\n",
    "        \n",
    "    nodes = list(current_beliefs.keys()) #makes a list with 34 keys. no longer vals with it.\n",
    "    #print(nodes)\n",
    "    \n",
    "    \n",
    "    for v in G.nodes():\n",
    "        #print(v) # prints 34 nodes without values. just keys.\n",
    "        neighboors_keys = [] #hold v's neighboors keys\n",
    "        \n",
    "        for w in G.neighbors(v):\n",
    "            \n",
    "            neighboors_keys.append(w)\n",
    "            \n",
    "        one_neigh = random.choice(neighboors_keys)\n",
    "        \n",
    "        #vals_rand = beliefs[one_neigh] #here's the problem. it doesn't have the vals of neigh. only has the key\n",
    "        \n",
    "        vals_rand = current_beliefs[one_neigh]# here's i solved it. \n",
    "        \n",
    "        #print(vals_rand)\n",
    "        \n",
    "        new_beliefs[v] = vals_rand\n",
    "        #print(new_beliefs[v])\n",
    "    return new_beliefs\n",
    "    \n",
    "    #print(new_beliefs)"
   ]
  },
  {
   "cell_type": "code",
   "execution_count": null,
   "metadata": {},
   "outputs": [],
   "source": [
    "#G = nx.karate_club_graph()\n",
    "#beliefs = initial_beliefs(G, p1 = [.29, .59, .09])\n",
    "#rand_neighbor_list(G, beliefs)"
   ]
  },
  {
   "cell_type": "markdown",
   "metadata": {},
   "source": [
    "## Part 3: Plotting \n",
    "    Fraction of nodes with true value\n",
    "    Fraction of nodes with true value in each coordinate \n",
    "    Fraction of nodes that have 1 in each coordinate "
   ]
  },
  {
   "cell_type": "code",
   "execution_count": null,
   "metadata": {},
   "outputs": [],
   "source": [
    "def learning_step_bit_majority(G, beliefs):\n",
    "    '''Update each node's beliefs based on its neighbors' beliefs\n",
    "    # Params\n",
    "    G: a Graph\n",
    "    beliefs: a dict mapping nodes of G to lists of 1s and 0s.\n",
    "    \n",
    "    # Return value\n",
    "    Dict of new beliefs for v\n",
    "    '''\n",
    "    new_beliefs = {}\n",
    "    for v in G.nodes():\n",
    "        num_beliefs = []\n",
    "        #call function \n",
    "        for bit in range(len(beliefs[v])):\n",
    "            new_belief = find_neighbor_bit_mode(G, v, beliefs, bit)\n",
    "            num_beliefs.append(new_belief)\n",
    "            #print(num_beliefs)\n",
    "        new_beliefs[v] = num_beliefs\n",
    "    return new_beliefs"
   ]
  },
  {
   "cell_type": "code",
   "execution_count": null,
   "metadata": {},
   "outputs": [],
   "source": [
    "#learning_step_bit_majority(G, initial_beliefs(G, p1 = [.532006, .45991, .501, 0.7, 0.4]))"
   ]
  },
  {
   "cell_type": "code",
   "execution_count": null,
   "metadata": {},
   "outputs": [],
   "source": [
    "def learn(ini_beliefs, learning_step, steps = 10):\n",
    "    '''Runs the simulation, takes the list of inital beliefs and updates each bit based on the learning strategy\n",
    "    #Parameters \n",
    "    inital_beliefs: The inital beliefs of each agent before the simulation\n",
    "    #learning step: The learning strategy agents will follow (see learning section above for options)\n",
    "    step: number of iterations \n",
    "    \n",
    "    #Returns \n",
    "    A list of agent's beliefs over time\n",
    "    '''\n",
    "    \n",
    "    current_beliefs = dict(ini_beliefs) #starts a dict of nodes and their list of beliefs//\n",
    "    #print(\"Current beliefs\", current_beliefs)\n",
    "    \n",
    "    beliefs = [current_beliefs]  #makes the dict into a list. \n",
    "    #print(\"Made current beliefs of a list of dict\", beliefs)\n",
    "    \n",
    "    #nodes && num_bit are use to iterate through each bit \n",
    "    nodes = list(current_beliefs.keys())\n",
    "    num_bit = len(current_beliefs[nodes[0]])\n",
    "  \n",
    "    #update the belief after each step\n",
    "    for i in range(steps + 1):\n",
    "        if i < steps:\n",
    "            current_beliefs = learning_step(G, current_beliefs) \n",
    "            #need to pass a param that will call diff strategies\n",
    "            beliefs.append(current_beliefs)\n",
    "    return beliefs"
   ]
  },
  {
   "cell_type": "code",
   "execution_count": null,
   "metadata": {},
   "outputs": [],
   "source": [
    "#ini_beliefs = initial_beliefs(G, p1 = [.79, .59, .69, .79, .490])\n",
    "#learn(ini_beliefs, random_neighbor_bit)\n",
    "\n",
    "##options: for learning_step: random_neighbor_bit, learning_step_bit_majority"
   ]
  },
  {
   "cell_type": "code",
   "execution_count": null,
   "metadata": {},
   "outputs": [],
   "source": [
    "def plot_beliefs_bits(beliefs_list):\n",
    "    '''Plots the change of beliefs over time\n",
    "    #Params\n",
    "    beliefs_list: a list, each element is a dict of beliefs at one time [{}]\n",
    "    \n",
    "    plots the fraction of nodes that have a one in a given bit\n",
    "    '''\n",
    "    \n",
    "    current_beliefs = beliefs_list #a list of dict. each key:value pair is a node, and a LIST of beliefs.\n",
    "    \n",
    "    #determine number of bits \n",
    "    nodes = list(current_beliefs[0].keys()) \n",
    "    num_bit = len(current_beliefs[0][nodes[0]])\n",
    "    \n",
    "    y = dict((bit, list()) for bit in range(num_bit))\n",
    "\n",
    "    #takes the list of beliefs in each iteration. Then for each bit, takes the fraction that \n",
    "    #have a 1 and adds them to y (the plotting varaible)\n",
    "    for steps_beliefs in current_beliefs:\n",
    "        for bit in range(num_bit):\n",
    "            bit_avg = get_belief_bit_fraction(G, steps_beliefs, bit) \n",
    "            y[bit].append(bit_avg) \n",
    "        \n",
    "    #plot the fract of nodes in bit that have a one\n",
    "    for bit in y:\n",
    "        plt.plot(y[bit], '-', alpha=0.4, linewidth=2, label  = str(bit))\n",
    "\n",
    "    #add spines to plot\n",
    "    ax = plt.gca()\n",
    "    for spine in ax.spines.values():\n",
    "        spine.set_visible(True)\n",
    "    #plt.xlim([0, steps]) \n",
    "    #plt.ylim([0, 1])\n",
    "    plt.legend()"
   ]
  },
  {
   "cell_type": "code",
   "execution_count": null,
   "metadata": {},
   "outputs": [],
   "source": [
    "#ini_beliefs = initial_beliefs(G, p1 = [.79, .59, .69, .79, .490])\n",
    "#beliefs_list =  learn(ini_beliefs, random_neighbor_bit, steps = 10)\n",
    "#plot_beliefs_bits(beliefs_list)"
   ]
  },
  {
   "cell_type": "raw",
   "metadata": {},
   "source": [
    "Create another function to plot beliefs. It should take a list of beliefs and a true value. It should plot a single line, showing the fraction of nodes that have the correct value over time"
   ]
  },
  {
   "cell_type": "code",
   "execution_count": null,
   "metadata": {},
   "outputs": [],
   "source": [
    "def plot_beliefs_correct(list_of_beliefs, true_value):\n",
    "    '''Plots the fraction of nones that have the correct string of bits over time.\n",
    "    #Params \n",
    "    list_of_beliefs: a list of dict, each element is a dict of beliefs at one step [{}]\n",
    "    true_value: the true string of bits\n",
    "    \n",
    "    #Return value\n",
    "    A plot with the fraction of nodes with the correct string of values\n",
    "    '''\n",
    "    \n",
    "    current_beliefs = list_of_beliefs #gives me a list of all the beliefs in all steps\n",
    "    \n",
    "    y = []\n",
    "    #print(y)\n",
    "    \n",
    "    for steps_beliefs in current_beliefs: #gives me a dict of all beliefs in all steps \n",
    "        #print(steps_beliefs) #steps_beliefs gives me the keys\n",
    "        total = 0\n",
    "        for v in G.node():\n",
    "            #print(v, steps_beliefs[v])\n",
    "            if steps_beliefs[v] == true_value:\n",
    "                #print (\"The list are equal\") \n",
    "                total += 1\n",
    "            #else:\n",
    "             #   print (\"The list aren't equal\")\n",
    "        frac_nodes_one = (total) / (len(G))\n",
    "         #append the fraction of nodes that have same string\n",
    "        y.append(frac_nodes_one) \n",
    "        #print(y)\n",
    "            \n",
    "    plt.plot(y, 'y-', alpha=0.4, linewidth=2)\n",
    "\n",
    "    #add spines to plot\n",
    "    ax = plt.gca()\n",
    "    for spine in ax.spines.values():\n",
    "        spine.set_visible(True)\n",
    "    #plt.xlim([0, steps]) \n",
    "    #plt.ylim([0, 1])\n",
    "    plt.legend()\n",
    "        "
   ]
  },
  {
   "cell_type": "code",
   "execution_count": null,
   "metadata": {},
   "outputs": [],
   "source": [
    "#G = nx.karate_club_graph()\n",
    "#beliefs = initial_beliefs(G, p1 = [.8,.8,.2,.2,.8])\n",
    "#plot_noisy_beliefs(G, beliefs, true_value = [1,1,0,0,1])"
   ]
  },
  {
   "cell_type": "code",
   "execution_count": null,
   "metadata": {},
   "outputs": [],
   "source": [
    "def fraction_correct_bit(G, steps_beliefs, true_value, bit):\n",
    "    '''Get the fraction of nodes that have same value in given bit\n",
    "    ##Helper function to plot_belief_bits_correct\n",
    "    \n",
    "    NOTE: difference between this and orginal get fraction of nodes that have one in given bit is that\n",
    "    in this one it gets the fraction of nodes that have the same value in given bit. regardless if it is 0 or 1\n",
    "    \n",
    "    #Params \n",
    "    G: graph\n",
    "    beliefs: set of beliefs for each node\n",
    "    bit = given index\n",
    "    \n",
    "    #Returns\n",
    "    fraction of nodes that have same value in given bit \n",
    "    '''\n",
    "    #get fraction of nodes that have same val in given bit in one step\n",
    "    \n",
    "    total = 0 #records bits that have same val.\n",
    "    for v in G.node(): #iterates through each node\n",
    "        if steps_beliefs[v][bit] == true_value[bit]: \n",
    "            #print(\"F\", steps_beliefs[v][bit], \"TV\", true_value[val])\n",
    "            total += 1\n",
    "        #else: \n",
    "        #    print(\"not same\")\n",
    "    frac_nodes_one = (total) / (len(G)) \n",
    "    return frac_nodes_one    "
   ]
  },
  {
   "cell_type": "code",
   "execution_count": null,
   "metadata": {},
   "outputs": [],
   "source": [
    "def plot_belief_bits_correct(beliefs_list, true_value):\n",
    "    ''' Plot  line for each bit with the correct value\n",
    "    #Params \n",
    "    beliefs_list =  a list of dict, each element is a dict of beliefs at one step. Sintax [{}]\n",
    "    true_value = list of bits that represent the true value.\n",
    "    \n",
    "    NOTE: This function no plot the fraction that has a 1 in a given bit, instead plots the fraction \n",
    "    of nodes that have the same value in a given bit (0 or 1).\n",
    "    #Return\n",
    "    Plot of fraction of nodes that have the SAME value in each individual bit. \n",
    "    '''\n",
    "    \n",
    "    current_beliefs = beliefs_list #a list of dict. each key:value pair is a node, and a LIST of beliefs.\n",
    "    #print(current_beliefs)\n",
    "    \n",
    "    #determine number of bits \n",
    "    nodes = list(current_beliefs[0].keys()) #list of 34 keys\n",
    "    #print(nodes)\n",
    "    num_bit = len(current_beliefs[0][nodes[0]]) #gets the num of bits\n",
    "    #print(num_bit)\n",
    "    \n",
    "    #dict to hold the fraction with same value in given bit\n",
    "    y = dict((bit, list()) for bit in range(num_bit)) #for each bit creates an empty list. \n",
    "    \n",
    "\n",
    "    for steps_beliefs in current_beliefs:\n",
    "        for bit in range(num_bit):\n",
    "            bit_avg = fraction_correct_bit(G, steps_beliefs, true_value, bit) #frac of v that have smae in given bit\n",
    "            y[bit].append(bit_avg) \n",
    "    \n",
    "    #plot the fract of nodes in bit that have a one\n",
    "    for bit in y:\n",
    "        plt.plot(y[bit], '-', alpha=0.4, linewidth=2, label  = str(bit))\n",
    "\n",
    "    #add spines to plot\n",
    "    ax = plt.gca()\n",
    "    for spine in ax.spines.values():\n",
    "        spine.set_visible(True)\n",
    "    #plt.xlim([0, steps]) \n",
    "    #plt.ylim([0, 1])\n",
    "    plt.legend()"
   ]
  },
  {
   "cell_type": "raw",
   "metadata": {},
   "source": [
    "Learning startegis: \n",
    "    rand_neighbor_list\n",
    "    learning_step_bit_majority\n",
    "    random_neighbor_bit"
   ]
  },
  {
   "cell_type": "code",
   "execution_count": null,
   "metadata": {},
   "outputs": [],
   "source": [
    "G = nx.karate_club_graph()\n",
    "plt.subplot(1, 3, 1)\n",
    "plt.title(\"Karate club\")\n",
    "ini_beliefs = initial_beliefs_noisy(true_value=[1, 0, 1, 0, 1], p_error= .20)\n",
    "\n",
    "beliefs_list =  learn(ini_beliefs, rand_neighbor_list, steps = 100)\n",
    "plot_beliefs_correct(beliefs_list, true_value = [1, 0, 1, 0, 1])\n",
    "\n",
    "plt.subplot(1, 3, 2)\n",
    "beliefs_list =  learn(ini_beliefs, random_neighbor_bit, steps = 100)\n",
    "plot_beliefs_correct(beliefs_list, true_value = [1, 0, 1, 0, 1])\n",
    "\n",
    "plt.subplot(1, 3, 3)\n",
    "beliefs_list =  learn(ini_beliefs, learning_step_bit_majority, steps = 100)\n",
    "plot_beliefs_correct(beliefs_list, true_value = [1, 0, 1, 0, 1])\n",
    "\n",
    "\n",
    "#plot_belief_bits_correct(beliefs_list, true_value = [1, 0, 1, 0, 1])\n",
    "plt.tight_layout()"
   ]
  },
  {
   "cell_type": "code",
   "execution_count": null,
   "metadata": {},
   "outputs": [],
   "source": [
    "G = nx.karate_club_graph()\n",
    "plt.subplot(1, 1, 1)\n",
    "plt.title(\"Karate club\")\n",
    "ini_beliefs = initial_beliefs_noisy(true_value=[1, 0, 1, 0, 1], p_error= .40)\n",
    "beliefs_list =  learn(ini_beliefs, learning_step_bit_majority, steps = 10)\n",
    "plot_beliefs_correct(beliefs_list, true_value = [1, 0, 1, 0, 1])\n",
    "plt.tight_layout()"
   ]
  },
  {
   "cell_type": "code",
   "execution_count": null,
   "metadata": {
    "scrolled": true
   },
   "outputs": [],
   "source": [
    "G = nx.karate_club_graph()\n",
    "plt.subplot(1, 1, 1)\n",
    "plt.title(\"Karate club\")\n",
    "ini_beliefs = initial_beliefs_noisy(true_value=[1, 0, 1, 0, 1], p_error= .40)\n",
    "beliefs_list =  learn(ini_beliefs, random_neighbor_bit, steps = 10)\n",
    "plot_beliefs_correct(beliefs_list, true_value = [1, 0, 1, 0, 1])\n",
    "plt.tight_layout()"
   ]
  },
  {
   "cell_type": "markdown",
   "metadata": {},
   "source": [
    "## Previous code "
   ]
  },
  {
   "cell_type": "raw",
   "metadata": {},
   "source": [
    "def learning_step(G, beliefs):\n",
    "    '''Update each node's beliefs based on its neighbors' beliefs\n",
    "    # Params\n",
    "    G: a Graph\n",
    "    beliefs: a dict mapping nodes of G to lists of 1s and 0s.\n",
    "    \n",
    "    # Return value\n",
    "    Dict of new beliefs for v\n",
    "    '''\n",
    "    new_beliefs = {}\n",
    "    for v in G.nodes():\n",
    "        num_beliefs = []\n",
    "        #call function \n",
    "        for bit in range(len(beliefs[v])):\n",
    "            new_belief = find_neighbor_bit_mode(G, v, beliefs, bit)\n",
    "            num_beliefs.append(new_belief)\n",
    "            #print(num_beliefs)\n",
    "        new_beliefs[v] = num_beliefs\n",
    "    return new_beliefs"
   ]
  },
  {
   "cell_type": "raw",
   "metadata": {},
   "source": [
    "#learning_step(G, initial_beliefs(G, p1 = [.532006, .45991, .501, 0.7, 0.4]))"
   ]
  },
  {
   "cell_type": "markdown",
   "metadata": {},
   "source": [
    "## different networks for plottting "
   ]
  },
  {
   "cell_type": "code",
   "execution_count": null,
   "metadata": {},
   "outputs": [],
   "source": [
    "#ini_beliefs = initial_beliefs(G, p1 = [.79, .59, .69, .79, .490])\n",
    "#beliefs_list =  learn(ini_beliefs, learning_step_bit_majority, steps = 10)\n",
    "#plot_beliefs_bits(beliefs_list)"
   ]
  },
  {
   "cell_type": "code",
   "execution_count": null,
   "metadata": {},
   "outputs": [],
   "source": [
    "#ini_beliefs = initial_beliefs(G, p1 = [.79, .59, .69, .79, .490])\n",
    "#beliefs_list =  learn(ini_beliefs, rand_neighbor_list, steps = 10)\n",
    "#plot_beliefs_bits(beliefs_list)"
   ]
  },
  {
   "cell_type": "code",
   "execution_count": null,
   "metadata": {},
   "outputs": [],
   "source": [
    "#plt.subplot(1, 1, 1)\n",
    "#plt.title(\"SW\")\n",
    "#G_SW = nx.watts_strogatz_graph(100, 4, 0.001)\n",
    "#beliefs = initial_beliefs(G_SW, p1 = [.79, .59, .69, .79, .490, .5])\n",
    "#plot_beliefs(G_SW, beliefs, steps = 10)\n",
    "#plt.tight_layout()"
   ]
  },
  {
   "cell_type": "code",
   "execution_count": null,
   "metadata": {},
   "outputs": [],
   "source": [
    "#plt.subplot(1, 1, 1)\n",
    "#plt.title(\"Preferential Attachment\")\n",
    "#G_preferential_500 = nx.barabasi_albert_graph(500, 1)\n",
    "#beliefs = initial_beliefs(G_preferential_500, p1 = [.79, .59, .69, .79, .490, .5])\n",
    "#plot_beliefs(G_preferential_500, beliefs, steps = 10)\n",
    "#plt.tight_layout()"
   ]
  },
  {
   "cell_type": "code",
   "execution_count": null,
   "metadata": {},
   "outputs": [],
   "source": [
    "### G = nx.karate_club_graph()\n",
    "#plt.title(\"Karate Club\")\n",
    "#plt.subplot(1, 1, 1)\n",
    "#beliefs = initial_beliefs(G, p1 = [.29, .59, .09])\n",
    "#plot_noisy_beliefs(G, beliefs, true_value = [0, 1, 0])\n",
    "#plt.tight_layout()"
   ]
  },
  {
   "cell_type": "code",
   "execution_count": null,
   "metadata": {},
   "outputs": [],
   "source": []
  }
 ],
 "metadata": {
  "kernelspec": {
   "display_name": "Python 3",
   "language": "python",
   "name": "python3"
  },
  "language_info": {
   "codemirror_mode": {
    "name": "ipython",
    "version": 3
   },
   "file_extension": ".py",
   "mimetype": "text/x-python",
   "name": "python",
   "nbconvert_exporter": "python",
   "pygments_lexer": "ipython3",
   "version": "3.6.5"
  }
 },
 "nbformat": 4,
 "nbformat_minor": 2
}
