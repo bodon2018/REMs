{
 "cells": [
  {
   "cell_type": "markdown",
   "metadata": {},
   "source": [
    "# Simulating Networks"
   ]
  },
  {
   "cell_type": "code",
   "execution_count": 1,
   "metadata": {},
   "outputs": [],
   "source": [
    "# Configure plotting in Jupyter\n",
    "from matplotlib import pyplot as plt\n",
    "%matplotlib inline\n",
    "plt.rcParams.update({\n",
    "    'figure.figsize': (7.5, 7.5),\n",
    "    'axes.spines.right': False,\n",
    "    'axes.spines.left': False,\n",
    "    'axes.spines.top': False,\n",
    "    'axes.spines.bottom': False})\n",
    "# Seed random number generator\n",
    "import random\n",
    "from numpy import random as nprand"
   ]
  },
  {
   "cell_type": "code",
   "execution_count": 2,
   "metadata": {},
   "outputs": [],
   "source": [
    "# Import NetworkX\n",
    "import networkx as nx\n",
    "import numpy as np"
   ]
  },
  {
   "cell_type": "code",
   "execution_count": 3,
   "metadata": {},
   "outputs": [],
   "source": [
    "#to handle stats error in learning step\n",
    "from statistics import mode\n",
    "from statistics import StatisticsError"
   ]
  },
  {
   "cell_type": "markdown",
   "metadata": {},
   "source": [
    "## Agent-Based Models"
   ]
  },
  {
   "cell_type": "code",
   "execution_count": 4,
   "metadata": {},
   "outputs": [],
   "source": [
    "G = nx.karate_club_graph()"
   ]
  },
  {
   "cell_type": "code",
   "execution_count": 5,
   "metadata": {},
   "outputs": [],
   "source": [
    "def get_random_belief_bit (p):\n",
    "    \"\"\"Return a 1 with probability p and a 0 with probability (p - 1).\n",
    "    \n",
    "    # Params\n",
    "    p: The probability of returning a 1\n",
    "\n",
    "    # Return value\n",
    "    1 with probability p, 0 otherwise.\n",
    "    \"\"\"\n",
    "    \n",
    "    val = np.random.uniform(low=0, high=1, size = 1)\n",
    "    \n",
    "    if val < p:\n",
    "        x = 1\n",
    "    else: \n",
    "        x = 0\n",
    "    return x"
   ]
  },
  {
   "cell_type": "code",
   "execution_count": 6,
   "metadata": {},
   "outputs": [
    {
     "data": {
      "text/plain": [
       "0"
      ]
     },
     "execution_count": 6,
     "metadata": {},
     "output_type": "execute_result"
    }
   ],
   "source": [
    "get_random_belief_bit (.5)"
   ]
  },
  {
   "cell_type": "code",
   "execution_count": 7,
   "metadata": {},
   "outputs": [],
   "source": [
    "def get_random_belief (p1):\n",
    "    \"\"\"Get a random belief for a single agent.\n",
    "    \n",
    "    # Params\n",
    "    p1: A list of numbers between 0 and 1. Each element of p1 represents the probability the \n",
    "    corresponding element of the belief list should be 1.\n",
    "    \n",
    "    # Return\n",
    "    A list of length len(p1), with each element equal to 0 or 1.\n",
    "    \"\"\"\n",
    "    \n",
    "    list_bits = []\n",
    "\n",
    "    for p in p1:\n",
    "        bit = get_random_belief_bit(p)\n",
    "        list_bits.append(bit)\n",
    "    return list_bits"
   ]
  },
  {
   "cell_type": "code",
   "execution_count": 8,
   "metadata": {
    "scrolled": true
   },
   "outputs": [
    {
     "data": {
      "text/plain": [
       "[0, 0, 1]"
      ]
     },
     "execution_count": 8,
     "metadata": {},
     "output_type": "execute_result"
    }
   ],
   "source": [
    "get_random_belief (p1 = [0, 0.5, 1])"
   ]
  },
  {
   "cell_type": "code",
   "execution_count": 9,
   "metadata": {},
   "outputs": [],
   "source": [
    "def initial_beliefs(G, p1):\n",
    "    \n",
    "    \"\"\"Generate an initial beliefs for each node in G.\n",
    "    The number of bits is determined by len(p1). If there are 5 bits, p1 should have 5 elements.\n",
    "\n",
    "    # Params\n",
    "    G: A graph\n",
    "    p1: an array of real numbers between 0 and 1. p1[i] is the probability that bit i of the belief is 1.\n",
    "\n",
    "    # Return\n",
    "    A dict mapping nodes in G to lists of length len(p1).\n",
    "    \"\"\"\n",
    "    beliefs = {}\n",
    "    for v in G.nodes():\n",
    "        l_beliefs = []\n",
    "        list_bits = get_random_belief (p1) \n",
    "        l_beliefs = list_bits\n",
    "        beliefs[v] = l_beliefs\n",
    "    return beliefs"
   ]
  },
  {
   "cell_type": "code",
   "execution_count": 10,
   "metadata": {},
   "outputs": [
    {
     "data": {
      "text/plain": [
       "{0: [0, 1, 1, 1, 1, 1, 0],\n",
       " 1: [0, 0, 1, 0, 0, 0, 0],\n",
       " 2: [0, 0, 1, 1, 0, 1, 0],\n",
       " 3: [0, 0, 1, 0, 0, 1, 1],\n",
       " 4: [0, 0, 1, 0, 0, 0, 1],\n",
       " 5: [0, 1, 1, 0, 0, 1, 0],\n",
       " 6: [0, 1, 1, 0, 0, 0, 0],\n",
       " 7: [0, 1, 1, 1, 1, 1, 1],\n",
       " 8: [0, 0, 1, 0, 0, 1, 0],\n",
       " 9: [0, 0, 1, 1, 0, 1, 1],\n",
       " 10: [0, 1, 1, 0, 0, 0, 1],\n",
       " 11: [0, 1, 1, 0, 1, 0, 0],\n",
       " 12: [0, 0, 1, 0, 1, 1, 0],\n",
       " 13: [0, 1, 1, 0, 0, 0, 0],\n",
       " 14: [0, 1, 1, 0, 0, 0, 0],\n",
       " 15: [0, 0, 1, 0, 0, 0, 1],\n",
       " 16: [0, 0, 1, 0, 0, 1, 0],\n",
       " 17: [0, 0, 1, 1, 0, 1, 0],\n",
       " 18: [0, 0, 1, 0, 0, 0, 0],\n",
       " 19: [0, 0, 1, 0, 0, 1, 0],\n",
       " 20: [0, 1, 1, 0, 0, 0, 0],\n",
       " 21: [0, 0, 1, 1, 1, 0, 0],\n",
       " 22: [0, 1, 1, 0, 0, 1, 0],\n",
       " 23: [0, 1, 1, 1, 0, 1, 0],\n",
       " 24: [0, 1, 1, 1, 0, 0, 1],\n",
       " 25: [0, 1, 1, 0, 0, 0, 0],\n",
       " 26: [0, 1, 1, 0, 1, 1, 0],\n",
       " 27: [0, 0, 1, 0, 0, 0, 0],\n",
       " 28: [0, 0, 1, 1, 0, 0, 0],\n",
       " 29: [0, 0, 1, 1, 1, 0, 1],\n",
       " 30: [0, 0, 1, 0, 1, 0, 0],\n",
       " 31: [0, 0, 1, 0, 0, 1, 0],\n",
       " 32: [0, 1, 1, 1, 0, 0, 0],\n",
       " 33: [0, 0, 1, 0, 0, 0, 1]}"
      ]
     },
     "execution_count": 10,
     "metadata": {},
     "output_type": "execute_result"
    }
   ],
   "source": [
    "initial_beliefs(G, p1 = [0, 0.5, 1, .3, .2, .4, .4])"
   ]
  },
  {
   "cell_type": "code",
   "execution_count": 11,
   "metadata": {},
   "outputs": [
    {
     "ename": "IndentationError",
     "evalue": "expected an indented block (<ipython-input-11-244a70a84373>, line 19)",
     "output_type": "error",
     "traceback": [
      "\u001b[0;36m  File \u001b[0;32m\"<ipython-input-11-244a70a84373>\"\u001b[0;36m, line \u001b[0;32m19\u001b[0m\n\u001b[0;31m    neighbors_values = [] # list to keep values of neighbors\u001b[0m\n\u001b[0m                   ^\u001b[0m\n\u001b[0;31mIndentationError\u001b[0m\u001b[0;31m:\u001b[0m expected an indented block\n"
     ]
    }
   ],
   "source": [
    "def find_neighbor_mode(G, v, beliefs):\n",
    "    '''Find the most common belief of node v's neighbors.\n",
    "    \n",
    "    # Params\n",
    "    G: a Graph\n",
    "    v: a node in G\n",
    "    beliefs: a dict mapping nodes of G to 1 or 0\n",
    "    \n",
    "    # Return value\n",
    "    The most common belief among v and its neighbors or beliefs[v] if there is a tie.\n",
    "    '''\n",
    "    \n",
    "    beliefs = {} \n",
    "    \n",
    "    initial_beliefs(G, p1) #returns a dict mapping nodes in G to lists of length len(p1)\n",
    "    \n",
    "    while (p1 > 0): \n",
    "    \n",
    "    neighbors_values = [] # list to keep values of neighbors\n",
    "    for w in G.neighbors(v):\n",
    "        neighbors_values.append(beliefs[w])        \n",
    "    try:\n",
    "        popular_val = mode(neighbors_values)\n",
    "    except StatisticsError: \n",
    "        popular_val = beliefs[v]\n",
    "    return popular_val"
   ]
  },
  {
   "cell_type": "code",
   "execution_count": null,
   "metadata": {},
   "outputs": [],
   "source": [
    "#find_neighbor_mode(G_karate, v, beliefs)"
   ]
  },
  {
   "cell_type": "code",
   "execution_count": null,
   "metadata": {},
   "outputs": [],
   "source": [
    "#Update each v value. Take the most common value among neighbors \n",
    "def learning_step(G, beliefs):\n",
    "    '''decleare an empty dict to hold the new belief values'''\n",
    "    new_beliefs = {}\n",
    "    num_bits = p1\n",
    "    for v in G.nodes():\n",
    "        #call function \n",
    "        while (num_bits >= 0):\n",
    "            new_beliefs[v] = find_neighbor_mode(G, v, beliefs)\n",
    "    return new_beliefs"
   ]
  },
  {
   "cell_type": "code",
   "execution_count": null,
   "metadata": {},
   "outputs": [],
   "source": [
    "learning_step(G_karate, 3)"
   ]
  },
  {
   "cell_type": "code",
   "execution_count": null,
   "metadata": {},
   "outputs": [],
   "source": [
    "#initial_beliefs(G_karate)"
   ]
  },
  {
   "cell_type": "code",
   "execution_count": null,
   "metadata": {},
   "outputs": [],
   "source": [
    "def plot_beliefs(G, ini_beliefs, true_value=0, steps=10):\n",
    "    \n",
    "    current_beliefs = dict(ini_beliefs) # variable in the argument\n",
    "    beliefs = [current_beliefs]  \n",
    "    #we will just plot the values. below the values are in a list\n",
    "    x = dict((v, list()) for v in G.nodes())\n",
    "    y = []\n",
    "    #update the belief after each step\n",
    "    for i in range(steps + 1):\n",
    "        # 2. Set y[i] here by avereraging over current_belief values \n",
    "        list_values = [v for v in current_beliefs.values()]\n",
    "        print(current_beliefs)\n",
    "        y.append(sum(list_values) / len(list_values))\n",
    "        for v in G.nodes():\n",
    "            x[v].append(i) #add each step\n",
    "        if i < steps:\n",
    "            current_beliefs = learning_step(G, current_beliefs)\n",
    "            beliefs.append(current_beliefs)\n",
    "    #plot the change of belief over time\n",
    "    plt.plot(y, 'y-', alpha=0.4, linewidth=2)\n",
    "    print (y)\n",
    "    #add spines to plot\n",
    "    ax = plt.gca()\n",
    "    for spine in ax.spines.values():\n",
    "        spine.set_visible(True)\n",
    "    plt.xlim([0, steps]) \n",
    "    plt.ylim([0, 1])"
   ]
  },
  {
   "cell_type": "code",
   "execution_count": null,
   "metadata": {},
   "outputs": [],
   "source": [
    "#in enumerate keep a count of iterations\n",
    "plt.subplot(1, 1, 1)\n",
    "plt.title(\"Karate club\")\n",
    "beliefs = initial_beliefs(G_karate, p1)\n",
    "plot_beliefs(G_karate, beliefs, 1)\n",
    "plt.tight_layout()"
   ]
  },
  {
   "cell_type": "code",
   "execution_count": null,
   "metadata": {},
   "outputs": [],
   "source": [
    "#in enumerate keep a count of iterations\n",
    "plt.subplot(1, 1, 1)\n",
    "plt.title(\"SW\")\n",
    "G_SW = nx.watts_strogatz_graph(1000, 4, 0.001)\n",
    "beliefs = initial_beliefs(G_SW)\n",
    "plot_beliefs(G_SW, beliefs, steps = 20)\n",
    "plt.tight_layout()"
   ]
  },
  {
   "cell_type": "code",
   "execution_count": null,
   "metadata": {},
   "outputs": [],
   "source": [
    "G = nx.Graph()\n",
    "## Make graph \n",
    "G.add_edge('A', 'B')\n",
    "G.add_edges_from([('B','C'),('C','D'),('D','E'),\n",
    "                  ('E','F'),('F','G'),('G','A'),\n",
    "                  ('A','C'),('A','F'),('B','G'),('B','D'),\n",
    "                  ('C','E'),('D','F'),('E','G')])\n",
    "beliefs = {}\n",
    "beliefs['A'] = 0\n",
    "beliefs['B'] = 1\n",
    "beliefs['C'] = 1 \n",
    "beliefs['D'] = 0\n",
    "beliefs['E'] = 1\n",
    "beliefs['F'] = 0\n",
    "beliefs['G'] = 1\n",
    "\n",
    "plot_beliefs(G, beliefs, steps = 10)\n",
    "\n",
    "plt.figure(figsize=(7.5, 7.5))\n",
    "nx.draw_networkx(G)\n"
   ]
  },
  {
   "cell_type": "markdown",
   "metadata": {},
   "source": [
    "# Try && error"
   ]
  },
  {
   "cell_type": "raw",
   "metadata": {},
   "source": [
    "start = 1\n",
    "end = random.randint(1,8)\n",
    "p1 = range(start, end + 1)\n",
    "num_bits = len(p1) #number of bits\n",
    "print(p1)\n",
    "print(num_bits)"
   ]
  },
  {
   "cell_type": "raw",
   "metadata": {},
   "source": [
    "def initial_beliefs(G, p1):\n",
    "    \"\"\"Generate an initial beliefs for each node in G.\n",
    "    The number of bits is determined by len(p1). If there are 5 bits, p1 should have 5 elements.\n",
    "\n",
    "    # Params\n",
    "    G: A graph\n",
    "    p1: an array of real numbers between 0 and 1. p1[i] is the probability that bit i of the belief is 1.\n",
    "    ##WHY BETWEEN 0 & 1? \n",
    "\n",
    "    # Return\n",
    "    A dict mapping nodes in G to lists of length len(p1).\n",
    "    \"\"\"\n",
    "    \n",
    "    # For debugging only, delete before finished\n",
    "    p1 = [0.1, 0.9, 0.6]\n",
    "    \n",
    "    #determine the num of bits\n",
    "    #p1 = 4\n",
    "    #num_bits = []\n",
    "    #while (p1 >= 1):\n",
    "        #num_bits = num_bits + 1\n",
    "        #print(num_bits)\n",
    "    \n",
    "    start = 1\n",
    "    end = random.randint(1,8)\n",
    "    p1 = range(start, end + 1)\n",
    "    num_bits = len(p1) #should i just named this one p1 too?\n",
    "    \n",
    "    beliefs = {}\n",
    "    #assings list of num_bits to each node v\n",
    "    for v in G.nodes():\n",
    "        list_bits = []\n",
    "        val = np.random.uniform(low=0, high=1, size = num_bits)\n",
    "        for i in val:\n",
    "            if i <= .30:\n",
    "                list_bits.append(0)\n",
    "            else:\n",
    "                list_bits.append(1)\n",
    "        beliefs[v] = list_bits\n",
    "    return beliefs"
   ]
  }
 ],
 "metadata": {
  "kernelspec": {
   "display_name": "Python 3",
   "language": "python",
   "name": "python3"
  },
  "language_info": {
   "codemirror_mode": {
    "name": "ipython",
    "version": 3
   },
   "file_extension": ".py",
   "mimetype": "text/x-python",
   "name": "python",
   "nbconvert_exporter": "python",
   "pygments_lexer": "ipython3",
   "version": "3.6.5"
  }
 },
 "nbformat": 4,
 "nbformat_minor": 2
}
