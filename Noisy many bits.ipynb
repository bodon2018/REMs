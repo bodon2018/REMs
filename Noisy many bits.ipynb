{
 "cells": [
  {
   "cell_type": "markdown",
   "metadata": {},
   "source": [
    "# Simulating Networks"
   ]
  },
  {
   "cell_type": "code",
   "execution_count": 1,
   "metadata": {},
   "outputs": [],
   "source": [
    "# Configure plotting in Jupyter\n",
    "from matplotlib import pyplot as plt\n",
    "%matplotlib inline\n",
    "plt.rcParams.update({\n",
    "    'figure.figsize': (7.5, 7.5),\n",
    "    'axes.spines.right': False,\n",
    "    'axes.spines.left': False,\n",
    "    'axes.spines.top': False,\n",
    "    'axes.spines.bottom': False})\n",
    "# Seed random number generator\n",
    "import random\n",
    "from numpy import random as nprand"
   ]
  },
  {
   "cell_type": "code",
   "execution_count": 2,
   "metadata": {},
   "outputs": [],
   "source": [
    "# Import NetworkX\n",
    "import networkx as nx\n",
    "import numpy as np"
   ]
  },
  {
   "cell_type": "code",
   "execution_count": 3,
   "metadata": {},
   "outputs": [],
   "source": [
    "#to handle stats error in learning step\n",
    "from statistics import mode\n",
    "from statistics import StatisticsError"
   ]
  },
  {
   "cell_type": "markdown",
   "metadata": {},
   "source": [
    "## Agent-Based Models"
   ]
  },
  {
   "cell_type": "markdown",
   "metadata": {},
   "source": [
    "### Part 1: Initial Beliefs \n",
    "    Input: List of probabilities of bit = 1\n",
    "    Input: True value, probability error "
   ]
  },
  {
   "cell_type": "code",
   "execution_count": 4,
   "metadata": {},
   "outputs": [],
   "source": [
    "G = nx.karate_club_graph()"
   ]
  },
  {
   "cell_type": "code",
   "execution_count": 5,
   "metadata": {},
   "outputs": [],
   "source": [
    "def get_random_belief_bit (p):\n",
    "    \"\"\"Return a 1 with probability p and a 0 with probability (p - 1).\n",
    "    \n",
    "    # Params\n",
    "    p: The probability of returning a 1\n",
    "\n",
    "    # Return value\n",
    "    1 with probability p, 0 otherwise.\n",
    "    \"\"\"\n",
    "    \n",
    "    val = np.random.uniform(low=0, high=1, size = 1)\n",
    "    \n",
    "    if val < p:\n",
    "        x = 1\n",
    "    else: \n",
    "        x = 0\n",
    "    return x"
   ]
  },
  {
   "cell_type": "code",
   "execution_count": 6,
   "metadata": {},
   "outputs": [],
   "source": [
    "#get_random_belief_bit (.5)"
   ]
  },
  {
   "cell_type": "code",
   "execution_count": 7,
   "metadata": {},
   "outputs": [],
   "source": [
    "def get_random_belief (p1):\n",
    "    \"\"\"Get a random belief for a single agent.\n",
    "    \n",
    "    # Params\n",
    "    p1: A list of numbers between 0 and 1. Each element of p1 represents \n",
    "    the probability the corresponding element of the belief list should be 1.\n",
    "    \n",
    "    # Return\n",
    "    A list of length len(p1), with each element equal to 0 or 1.\n",
    "    \"\"\"\n",
    "    \n",
    "    list_bits = []\n",
    "\n",
    "    for p in p1:\n",
    "        bit = get_random_belief_bit(p)\n",
    "        list_bits.append(bit)\n",
    "    return list_bits"
   ]
  },
  {
   "cell_type": "code",
   "execution_count": 8,
   "metadata": {
    "scrolled": true
   },
   "outputs": [],
   "source": [
    "#get_random_belief (p1 = [0, 0.5, 1])"
   ]
  },
  {
   "cell_type": "code",
   "execution_count": 9,
   "metadata": {},
   "outputs": [],
   "source": [
    "def initial_beliefs(G, p1):\n",
    "    \n",
    "    \"\"\"Generate an initial beliefs for each node in G.\n",
    "    The number of bits is determined by len(p1). \n",
    "    If there are 5 bits, p1 should have 5 elements.\n",
    "\n",
    "    # Params\n",
    "    G: A graph\n",
    "    p1: an array of real numbers between 0 and 1. p1[i] is the \n",
    "    probability that bit i of the belief is 1.\n",
    "\n",
    "    # Return\n",
    "    A dict mapping nodes in G to lists of length len(p1).\n",
    "    \"\"\"\n",
    "    beliefs = {}\n",
    "    for v in G.nodes():\n",
    "        l_beliefs = []\n",
    "        list_bits = get_random_belief (p1) \n",
    "        l_beliefs = list_bits\n",
    "        beliefs[v] = l_beliefs\n",
    "    return beliefs"
   ]
  },
  {
   "cell_type": "code",
   "execution_count": 10,
   "metadata": {},
   "outputs": [],
   "source": [
    "#initial_beliefs(G, p1 = [0, 0.5, 1])"
   ]
  },
  {
   "cell_type": "code",
   "execution_count": 11,
   "metadata": {},
   "outputs": [],
   "source": [
    "def initial_beliefs_noisy(true_value, p_error):\n",
    "    '''Generates a list of beliefs with a probability error \n",
    "    #Params \n",
    "    true_value: A list of true bits\n",
    "    p_error: probability an error \n",
    "    \n",
    "    #Return \n",
    "    A dict of beliefs with a noise (p_error)\n",
    "    '''\n",
    "    \n",
    "    beliefs = {}\n",
    "    \n",
    "    p1 = []\n",
    "    \n",
    "    for bit in true_value:\n",
    "        \n",
    "        if bit == 1:\n",
    "            x =  1 - p_error\n",
    "            p1.append(x)\n",
    "            \n",
    "        else:\n",
    "            x = p_error\n",
    "            p1.append(x)\n",
    "    \n",
    "    beliefs = initial_beliefs(G, p1)\n",
    "    return beliefs"
   ]
  },
  {
   "cell_type": "code",
   "execution_count": 12,
   "metadata": {},
   "outputs": [],
   "source": [
    "#initial_beliefs_noisy(true_value=[1], p_error= .40)"
   ]
  },
  {
   "cell_type": "markdown",
   "metadata": {},
   "source": [
    "## Part 2: Learning Strategies \n",
    "    Strategies:\n",
    "        Mode per coordinate (find_neighbor_bit_mode)\n",
    "        Random neighbor's value per coordinate (random_neighbor_bit(G, beliefs))\n",
    "        Random neighbor's entire list (rand_neighbor_list(G, beliefs))\n",
    "        Most popular list ()\n",
    "        Best neighboor: choose value from neighboors closest to the true value "
   ]
  },
  {
   "cell_type": "code",
   "execution_count": 13,
   "metadata": {},
   "outputs": [],
   "source": [
    "def find_neighbor_bit_mode(G, v, beliefs, bit):\n",
    "    '''\n",
    "    The spec should be almost the same, but should be replaced with a function for finding \n",
    "    the mode for a particular bit:\n",
    "    Among node v and its neighbors, find the most common belief in the specified bit.\n",
    "    \n",
    "    # Params\n",
    "    G: a Graph\n",
    "    v: a node in G\n",
    "    beliefs: a dict mapping nodes of G to lists of 1s and 0s.\n",
    "    bit: An integer >= 0 corresponding an index of the belief lists.\n",
    "    \n",
    "    # Return value\n",
    "    The most common belief (at the specified bit) among v and its neighbors or beliefs[v][bit] if there is a tie.\n",
    "    '''\n",
    "    #for test\n",
    "    neighbors_bit_value = []\n",
    "    #include bit value of v in mode calculation\n",
    "    node_belief = beliefs[v]\n",
    "    try:\n",
    "        neighbors_bit_value.append(node_belief[bit])\n",
    "    except TypeError:\n",
    "        print(node_belief)\n",
    "    for w in G.neighbors(v):\n",
    "        neighbors_bit_value.append(beliefs[w][bit])\n",
    "        try:\n",
    "            popular_val = mode(neighbors_bit_value)\n",
    "        except StatisticsError: \n",
    "            popular_val = beliefs[v][bit]\n",
    "    return popular_val"
   ]
  },
  {
   "cell_type": "code",
   "execution_count": 14,
   "metadata": {},
   "outputs": [],
   "source": [
    "#find_neighbor_bit_mode(G, v = 0, beliefs = initial_beliefs(G, p1 = [.0,1, 0.2]), bit = 2)"
   ]
  },
  {
   "cell_type": "code",
   "execution_count": 15,
   "metadata": {},
   "outputs": [],
   "source": [
    "def learning_step(G, beliefs):\n",
    "    '''Update each node's beliefs based on its neighbors' beliefs\n",
    "    # Params\n",
    "    G: a Graph\n",
    "    beliefs: a dict mapping nodes of G to lists of 1s and 0s.\n",
    "    \n",
    "    # Return value\n",
    "    Dict of new beliefs for v\n",
    "    '''\n",
    "    new_beliefs = {}\n",
    "    for v in G.nodes():\n",
    "        num_beliefs = []\n",
    "        #call function \n",
    "        for bit in range(len(beliefs[v])):\n",
    "            new_belief = find_neighbor_bit_mode(G, v, beliefs, bit)\n",
    "            num_beliefs.append(new_belief)\n",
    "            #print(num_beliefs)\n",
    "        new_beliefs[v] = num_beliefs\n",
    "    return new_beliefs"
   ]
  },
  {
   "cell_type": "code",
   "execution_count": 16,
   "metadata": {},
   "outputs": [],
   "source": [
    "#learning_step(G, initial_beliefs(G, p1 = [.532006, .45991, .501, 0.7, 0.4]))"
   ]
  },
  {
   "cell_type": "code",
   "execution_count": 17,
   "metadata": {},
   "outputs": [],
   "source": [
    "def get_belief_bit_fraction(G, beliefs, bit):\n",
    "\n",
    "    '''Get the fraction of nodes that have 1 in given bit\n",
    "    Params \n",
    "    G: graph\n",
    "    beliefs: set of beliefs for each node\n",
    "    bit = given index\n",
    "    returns fraction of nodes that have a 1 in given bit. \n",
    "    '''\n",
    "    #fraction of nodes with 1 in given bit\n",
    "    #print(beliefs)\n",
    "    \n",
    "    node_bit_value = []\n",
    "    for v in G.node():\n",
    "        #print(beliefs[v][bit])\n",
    "        node_bit_value.append(beliefs[v][bit]) \n",
    "        #print(beliefs, beliefs[v][bit])\n",
    "    #print(node_bit_value)\n",
    "    frac_nodes_one = sum(node_bit_value) / len(node_bit_value)\n",
    "    return frac_nodes_one"
   ]
  },
  {
   "cell_type": "code",
   "execution_count": 18,
   "metadata": {},
   "outputs": [],
   "source": [
    "#get_belief_bit_fraction(G, beliefs = initial_beliefs(G, p1 = [.4732006, .45991]), bit = 0)"
   ]
  },
  {
   "cell_type": "code",
   "execution_count": 19,
   "metadata": {},
   "outputs": [],
   "source": [
    "def random_neighbor_bit(G, beliefs):\n",
    "    '''For a given bit, choose a neighbor randomly an adopt its belief at given position\n",
    "    # Params\n",
    "    G: a Graph\n",
    "    beliefs: a dict mapping nodes of G to lists of 1s and 0s.\n",
    "    \n",
    "    # Return value\n",
    "    A list of belief where each bit is randomly chosen among v's neighbors\n",
    "    '''\n",
    "    new_beliefs = {}\n",
    "\n",
    "    \n",
    "    for v in G.nodes():\n",
    "        #print(beliefs[v])\n",
    "        num_bit = len(beliefs[v])\n",
    "        rand_beliefs = [] #temp list to hold new rand vals\n",
    "        \n",
    "        for bit in range(num_bit):\n",
    "            bit_val = [] #append all the neighs val at position bit\n",
    "            \n",
    "            for w in G.neighbors(v):\n",
    "                \n",
    "                vals_pos_bit = beliefs[w][bit] #first find the val at pos bit of each neigh, safe it in temp var\n",
    "                bit_val.append(vals_pos_bit) #add all the vals at position bit\n",
    "    \n",
    "        #print (bit_val)\n",
    "    \n",
    "            new_rand_val = random.choice(bit_val) # randomly select one of the vals      \n",
    "            rand_beliefs.append(new_rand_val) #add the randomly selected val to a temp list called rand_beliefs        \n",
    "        #print(rand_beliefs)\n",
    "            \n",
    "        new_beliefs[v] = rand_beliefs#assing the new rand vals to new beliefs \n",
    "        #print(new_beliefs)\n",
    "    return new_beliefs"
   ]
  },
  {
   "cell_type": "code",
   "execution_count": 20,
   "metadata": {},
   "outputs": [],
   "source": [
    "#G = nx.karate_club_graph()\n",
    "#beliefs = initial_beliefs(G, p1 = [.29, .59, .09])\n",
    "#random_neighbor_bit(G, beliefs)"
   ]
  },
  {
   "cell_type": "code",
   "execution_count": 21,
   "metadata": {},
   "outputs": [],
   "source": [
    "def rand_neighbor_list(G, beliefs):\n",
    "    '''For a given node, choose a neighboor randomly an adopt all its belief\n",
    "    \n",
    "    #Params \n",
    "    G: a Graph\n",
    "    beliefs: a dict mapping nodes of G to lists of 1s and 0s.\n",
    "    \n",
    "    # Return value\n",
    "    A list of belief where each bit is randomly chosen among v's neighbors\n",
    "    \n",
    "    '''\n",
    "    \n",
    "    new_beliefs = {}\n",
    "    \n",
    "    current_beliefs = dict(beliefs)# a dict of beliefs \n",
    "    print(current_beliefs)\n",
    "\n",
    "    beliefs = [current_beliefs]#makes a list that contains a dict. Dict contains 34 nodes, each with a list of bits\n",
    "    #print(beliefs)\n",
    "        \n",
    "    nodes = list(current_beliefs.keys()) #makes a list with 34 keys. no longer vals with it.\n",
    "    #print(nodes)\n",
    "    \n",
    "    \n",
    "    for v in G.nodes():\n",
    "        #print(v) # prints 34 nodes without values. just keys.\n",
    "        neighboors_keys = [] #hold v's neighboors keys\n",
    "        \n",
    "        for w in G.neighbors(v):\n",
    "            \n",
    "            neighboors_keys.append(w)\n",
    "            \n",
    "        one_neigh = random.choice(neighboors_keys)\n",
    "        \n",
    "        #vals_rand = beliefs[one_neigh] #here's the problem. it doesn't have the vals of neigh. only has the key\n",
    "        \n",
    "        vals_rand = current_beliefs[one_neigh]# here's i solved it. \n",
    "        \n",
    "        #print(vals_rand)\n",
    "        \n",
    "        new_beliefs[v] = vals_rand\n",
    "        #print(new_beliefs[v])\n",
    "    return new_beliefs\n",
    "    \n",
    "    #print(new_beliefs)"
   ]
  },
  {
   "cell_type": "code",
   "execution_count": 22,
   "metadata": {},
   "outputs": [],
   "source": [
    "#G = nx.karate_club_graph()\n",
    "#beliefs = initial_beliefs(G, p1 = [.29, .59, .09])\n",
    "#rand_neighbor_list(G, beliefs)"
   ]
  },
  {
   "cell_type": "markdown",
   "metadata": {},
   "source": [
    "## Part 3: Plotting \n",
    "    Fraction of nodes with true value\n",
    "    Fraction of nodes with true value in each coordinate \n",
    "    Fraction of nodes that have 1 in each coordinate "
   ]
  },
  {
   "cell_type": "code",
   "execution_count": 23,
   "metadata": {},
   "outputs": [],
   "source": [
    "def learn(ini_beliefs, steps = 10):\n",
    "    '''Runs the simulation, takes the list of inital beliefs and updates each bit based on the learning strategy\n",
    "    #Parameters \n",
    "    inital_beliefs: The inital beliefs of each agent before the simulation\n",
    "    step: number of iterations \n",
    "    \n",
    "    #Returns \n",
    "    A list of agent's beliefs over time\n",
    "    '''\n",
    "    \n",
    "    current_beliefs = dict(ini_beliefs) #starts a dict of nodes and their list of beliefs//\n",
    "    #print(\"Current beliefs\", current_beliefs)\n",
    "    \n",
    "    beliefs = [current_beliefs]  #made the dict into a list. \n",
    "    #print(\"Made current beliefs of a list of dict\", beliefs)\n",
    "    \n",
    "    #nodes && num_bit are use to iterate through each bit \n",
    "    nodes = list(current_beliefs.keys())\n",
    "    num_bit = len(current_beliefs[nodes[0]])\n",
    "  \n",
    "    #update the belief after each step\n",
    "    for i in range(steps + 1):\n",
    "        if i < steps:\n",
    "            current_beliefs = learning_step(G, current_beliefs) \n",
    "            #need to pass a param that will call diff strategies\n",
    "            beliefs.append(current_beliefs)\n",
    "    return beliefs"
   ]
  },
  {
   "cell_type": "code",
   "execution_count": 24,
   "metadata": {},
   "outputs": [],
   "source": [
    "#ini_beliefs = initial_beliefs(G, p1 = [.79, .59, .69, .79, .490])\n",
    "#learn(ini_beliefs)"
   ]
  },
  {
   "cell_type": "code",
   "execution_count": 25,
   "metadata": {},
   "outputs": [],
   "source": [
    "def plot_beliefs_bits(beliefs_list):\n",
    "    '''Plots the change of beliefs over time\n",
    "    #Params\n",
    "    beliefs_list: a list, each element is a dict of beliefs at one time [{}]\n",
    "    \n",
    "    plots the fraction of nodes that have a one in a given bit\n",
    "    '''\n",
    "    \n",
    "    current_beliefs = beliefs_list #a list of dict. each key:value pair is a node, and a LIST of beliefs.\n",
    "    \n",
    "    #determine number of bits \n",
    "    nodes = list(current_beliefs[0].keys()) \n",
    "    num_bit = len(current_beliefs[0][nodes[0]])\n",
    "    \n",
    "    y = dict((bit, list()) for bit in range(num_bit))\n",
    "\n",
    "    #takes the list of beliefs in each iteration. Then for each bit, takes the fraction that \n",
    "    #have a 1 and adds them to y (the plotting varaible)\n",
    "    for steps_beliefs in current_beliefs:\n",
    "        for bit in range(num_bit):\n",
    "            bit_avg = get_belief_bit_fraction(G, steps_beliefs, bit) \n",
    "            y[bit].append(bit_avg) \n",
    "        \n",
    "    #plot the fract of nodes in bit that have a one\n",
    "    for bit in y:\n",
    "        plt.plot(y[bit], '-', alpha=0.4, linewidth=2, label  = str(bit))\n",
    "\n",
    "    #add spines to plot\n",
    "    ax = plt.gca()\n",
    "    for spine in ax.spines.values():\n",
    "        spine.set_visible(True)\n",
    "    #plt.xlim([0, steps]) \n",
    "    #plt.ylim([0, 1])\n",
    "    plt.legend()"
   ]
  },
  {
   "cell_type": "code",
   "execution_count": 26,
   "metadata": {
    "scrolled": true
   },
   "outputs": [
    {
     "data": {
      "image/png": "[encoded data removed]",
      "text/plain": [
       "<Figure size 432x288 with 1 Axes>"
      ]
     },
     "metadata": {},
     "output_type": "display_data"
    }
   ],
   "source": [
    "ini_beliefs = initial_beliefs(G, p1 = [.79, .59, .69, .79, .490])\n",
    "beliefs_list =  learn(ini_beliefs, steps = 10)\n",
    "plot_beliefs_bits(beliefs_list)"
   ]
  },
  {
   "cell_type": "code",
   "execution_count": 27,
   "metadata": {},
   "outputs": [],
   "source": [
    "#G = nx.karate_club_graph()\n",
    "#plt.subplot(1, 1, 1)\n",
    "#plt.title(\"Karate club\")\n",
    "#beliefs = initial_beliefs(G, p1 = [.79, .59, .69, .79, .490])\n",
    "#plot_beliefs(G, beliefs, steps = 10)\n",
    "#plt.tight_layout()"
   ]
  },
  {
   "cell_type": "code",
   "execution_count": 28,
   "metadata": {},
   "outputs": [],
   "source": [
    "#plt.subplot(1, 1, 1)\n",
    "#plt.title(\"SW\")\n",
    "#G_SW = nx.watts_strogatz_graph(100, 4, 0.001)\n",
    "#beliefs = initial_beliefs(G_SW, p1 = [.79, .59, .69, .79, .490, .5])\n",
    "#plot_beliefs(G_SW, beliefs, steps = 10)\n",
    "#plt.tight_layout()"
   ]
  },
  {
   "cell_type": "code",
   "execution_count": 29,
   "metadata": {},
   "outputs": [],
   "source": [
    "#plt.subplot(1, 1, 1)\n",
    "#plt.title(\"Preferential Attachment\")\n",
    "#G_preferential_500 = nx.barabasi_albert_graph(500, 1)\n",
    "#beliefs = initial_beliefs(G_preferential_500, p1 = [.79, .59, .69, .79, .490, .5])\n",
    "#plot_beliefs(G_preferential_500, beliefs, steps = 10)\n",
    "#plt.tight_layout()"
   ]
  },
  {
   "cell_type": "raw",
   "metadata": {},
   "source": [
    "Create another function to plot beliefs. It should take a list of beliefs and a true value. It should plot a single line, showing the fraction of nodes that have the correct value over time"
   ]
  },
  {
   "cell_type": "code",
   "execution_count": 30,
   "metadata": {},
   "outputs": [],
   "source": [
    "def plot_beliefs_correct(list_of_beliefs, true_value):\n",
    "    '''Plots the fraction of ones that have the correct string of bits over time.\n",
    "    #Params \n",
    "    list_of_beliefs: a list of dict, each element is a dict of beliefs at one step [{}]\n",
    "    true_value: the true string of bits\n",
    "    \n",
    "    #Return value\n",
    "    A plot with the fraction of nodes with the correct string of values\n",
    "    '''\n",
    "    \n",
    "    current_beliefs = list_of_beliefs #gives me a list of all the beliefs in all steps\n",
    "    \n",
    "    y = []\n",
    "    #print(y)\n",
    "    \n",
    "    for steps_beliefs in current_beliefs: #gives me a dict of all beliefs in all steps \n",
    "        #print(steps_beliefs) #steps_beliefs gives me the keys\n",
    "        total = 0\n",
    "        for v in G.node():\n",
    "            #print(v, steps_beliefs[v])\n",
    "            if steps_beliefs[v] == true_value:\n",
    "                #print (\"The list are equal\") \n",
    "                total += 1\n",
    "            #else:\n",
    "             #   print (\"The list aren't equal\")\n",
    "        frac_nodes_one = (total) / (len(G))\n",
    "         #append the fraction of nodes that have same string\n",
    "        y.append(frac_nodes_one) \n",
    "        #print(y)\n",
    "            \n",
    "    plt.plot(y, 'y-', alpha=0.4, linewidth=2)\n",
    "\n",
    "    #add spines to plot\n",
    "    ax = plt.gca()\n",
    "    for spine in ax.spines.values():\n",
    "        spine.set_visible(True)\n",
    "    #plt.xlim([0, steps]) \n",
    "    #plt.ylim([0, 1])\n",
    "    plt.legend()\n",
    "        "
   ]
  },
  {
   "cell_type": "code",
   "execution_count": 31,
   "metadata": {
    "scrolled": false
   },
   "outputs": [
    {
     "name": "stderr",
     "output_type": "stream",
     "text": [
      "No handles with labels found to put in legend.\n"
     ]
    },
    {
     "data": {
      "image/png": "[encoded data removed]",
      "text/plain": [
       "<Figure size 432x288 with 1 Axes>"
      ]
     },
     "metadata": {},
     "output_type": "display_data"
    }
   ],
   "source": [
    "ini_beliefs = initial_beliefs(G, p1 = [.09, .59, .39])\n",
    "beliefs_list =  learn(ini_beliefs, steps = 10)\n",
    "plot_beliefs_correct(beliefs_list, true_value = [0, 1, 0])"
   ]
  },
  {
   "cell_type": "code",
   "execution_count": 32,
   "metadata": {},
   "outputs": [],
   "source": [
    "#G = nx.karate_club_graph()\n",
    "#beliefs = initial_beliefs(G, p1 = [.8,.8,.2,.2,.8])\n",
    "#plot_noisy_beliefs(G, beliefs, true_value = [1,1,0,0,1])"
   ]
  },
  {
   "cell_type": "code",
   "execution_count": 33,
   "metadata": {},
   "outputs": [],
   "source": [
    "### G = nx.karate_club_graph()\n",
    "#plt.title(\"Karate Club\")\n",
    "#plt.subplot(1, 1, 1)\n",
    "#beliefs = initial_beliefs(G, p1 = [.29, .59, .09])\n",
    "#plot_noisy_beliefs(G, beliefs, true_value = [0, 1, 0])\n",
    "#plt.tight_layout()"
   ]
  },
  {
   "cell_type": "markdown",
   "metadata": {},
   "source": [
    "## I don't need this lines:"
   ]
  },
  {
   "cell_type": "raw",
   "metadata": {},
   "source": [
    "def plot_noisy_beliefs(G, beliefs, true_value, std = 0.15, steps = 10):\n",
    "    '''Return plot with a true string \n",
    "    # Params\n",
    "    G: a Graph\n",
    "    Beliefs: initial beliefs of each node. len(beliefs) is the\n",
    "    number of bits\n",
    "    True_value: the true string of bits\n",
    "    Std: noise for each bit, a single error probability\n",
    "\n",
    "    # Return value\n",
    "    Plot fraction of nodes that have the same string of the\n",
    "    true value\n",
    "    '''\n",
    "    ##beliefs = dict((v, random.gauss(true_value, p_error)) for v in G.nodes())\n",
    "    current_beliefs = dict(beliefs) # variable in the argument\n",
    "    print(current_beliefs)\n",
    "    beliefs = [current_beliefs]  \n",
    "\n",
    "    x = dict((v, list()) for v in G.nodes())    \n",
    "    y = []\n",
    "    \n",
    "    #update the belief after each step\n",
    "    for i in range(steps + 1):\n",
    "            #need to calculate the full string\n",
    "        total = 0\n",
    "        for v in G.node():\n",
    "            print(current_beliefs[v])\n",
    "            if current_beliefs[v] == true_value:\n",
    "                print (\"The list are equal\") \n",
    "                total += 1\n",
    "            else : \n",
    "                print (\"The list aren't equal\")\n",
    "        frac_nodes_one = (total) / (len(G))\n",
    "        \n",
    "\n",
    "        #append the fraction of nodes that have same string\n",
    "        y.append(frac_nodes_one) \n",
    "        #print(y)\n",
    "        if i < steps: \n",
    "            current_beliefs = learning_step(G, current_beliefs)\n",
    "            beliefs.append(current_beliefs)   \n",
    "            \n",
    "    plt.plot(y, 'y-', alpha=0.4, linewidth=2)\n",
    "\n",
    "    #add spines to plot\n",
    "    ax = plt.gca()\n",
    "    for spine in ax.spines.values():\n",
    "        spine.set_visible(True)\n",
    "    #plt.xlim([0, steps]) \n",
    "    #plt.ylim([0, 1])\n",
    "    plt.legend()\n",
    "            "
   ]
  },
  {
   "cell_type": "code",
   "execution_count": null,
   "metadata": {},
   "outputs": [],
   "source": []
  },
  {
   "cell_type": "code",
   "execution_count": null,
   "metadata": {},
   "outputs": [],
   "source": []
  }
 ],
 "metadata": {
  "kernelspec": {
   "display_name": "Python 3",
   "language": "python",
   "name": "python3"
  },
  "language_info": {
   "codemirror_mode": {
    "name": "ipython",
    "version": 3
   },
   "file_extension": ".py",
   "mimetype": "text/x-python",
   "name": "python",
   "nbconvert_exporter": "python",
   "pygments_lexer": "ipython3",
   "version": "3.6.5"
  }
 },
 "nbformat": 4,
 "nbformat_minor": 2
}
