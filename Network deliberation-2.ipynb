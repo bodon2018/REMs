{
 "cells": [
  {
   "cell_type": "markdown",
   "metadata": {},
   "source": [
    "# Simulating Network Deliberation "
   ]
  },
  {
   "cell_type": "code",
   "execution_count": 1,
   "metadata": {
    "scrolled": true
   },
   "outputs": [],
   "source": [
    "# Configure plotting in Jupyter\n",
    "from matplotlib import pyplot as plt\n",
    "%matplotlib inline\n",
    "plt.rcParams.update({\n",
    "    'figure.figsize': (7.5, 7.5),\n",
    "    'axes.spines.right': False,\n",
    "    'axes.spines.left': False,\n",
    "    'axes.spines.top': False,\n",
    "    'axes.spines.bottom': False})\n",
    "# Seed random number generator\n",
    "import random\n",
    "from numpy import random as nprand"
   ]
  },
  {
   "cell_type": "code",
   "execution_count": 2,
   "metadata": {
    "scrolled": true
   },
   "outputs": [],
   "source": [
    "# Import NetworkX\n",
    "import networkx as nx\n",
    "import numpy as np"
   ]
  },
  {
   "cell_type": "code",
   "execution_count": 3,
   "metadata": {
    "scrolled": true
   },
   "outputs": [],
   "source": [
    "import numpy as np"
   ]
  },
  {
   "cell_type": "markdown",
   "metadata": {},
   "source": [
    "### Assign nodes to groups "
   ]
  },
  {
   "cell_type": "code",
   "execution_count": 4,
   "metadata": {
    "scrolled": true
   },
   "outputs": [],
   "source": [
    "from learning import *"
   ]
  },
  {
   "cell_type": "code",
   "execution_count": 5,
   "metadata": {
    "scrolled": true
   },
   "outputs": [],
   "source": [
    "from topologies import *"
   ]
  },
  {
   "cell_type": "markdown",
   "metadata": {},
   "source": [
    "## Generates topologies"
   ]
  },
  {
   "cell_type": "code",
   "execution_count": 6,
   "metadata": {
    "scrolled": true
   },
   "outputs": [],
   "source": [
    "def generate_long_path(N, M, stage):\n",
    "    '''Generates a long path network\n",
    "    #Parameters:\n",
    "    N: number of participants \n",
    "    M: number of participants per group\n",
    "    stage: stage in the ;earning process\n",
    "    \n",
    "    #Returns \n",
    "    a long path network\n",
    "    '''\n",
    "\n",
    "    groups = get_long_path_stage_groups(N, M, stage)\n",
    "    #print(\"all the groups\", groups)\n",
    "    G = nx.Graph()\n",
    "    for group in groups:\n",
    "        #print(\"group in groups\", group) #nodes to form clique network\n",
    "        g = nx.complete_graph(group) #clique network\n",
    "        #print(\"clique network\", g.nodes())\n",
    "        #nx.draw(g)\n",
    "        G = nx.union(G,g)\n",
    "    #print(\"All the edges in graph G are\", G.nodes())\n",
    "    #nx.draw(G)\n",
    "    return G"
   ]
  },
  {
   "cell_type": "code",
   "execution_count": 7,
   "metadata": {
    "scrolled": true
   },
   "outputs": [],
   "source": [
    "def generate_random_path(N, M, stage):\n",
    "    \"\"\" Generates a radom network\n",
    "    #Parameters\n",
    "    N: number of participants \n",
    "    M: number of participants per group\n",
    "    stage: stage in the ;earning process\n",
    "    \n",
    "    #Returns \n",
    "    a long path network\n",
    "    \n",
    "    \"\"\"\n",
    "    groups = get_random_stage_groups(N, M, stage)\n",
    "    #print(\"all the groups\", groups)\n",
    "    G = nx.Graph()\n",
    "    for group in groups:\n",
    "        #print(\"group in groups\", group) #nodes to form clique network\n",
    "        g = nx.complete_graph(group) #clique network\n",
    "        #print(\"clique network\", g.nodes())\n",
    "        #nx.draw(g)\n",
    "        #adds cliques to a network \n",
    "        G = nx.union(G,g)\n",
    "        #print(\"All the edges in graph G are\", G.nodes())\n",
    "        #nx.draw(G\n",
    "    return G"
   ]
  },
  {
   "cell_type": "code",
   "execution_count": 8,
   "metadata": {
    "scrolled": true
   },
   "outputs": [],
   "source": [
    "def generate_complete(N, M, stage):\n",
    "    '''Generates a complete network\n",
    "    #Parameters\n",
    "    N: number of participants \n",
    "    M: number of participants per group\n",
    "    stage: stage in the ;earning process\n",
    "    \n",
    "    #Returns \n",
    "    a complete network\n",
    "    '''\n",
    "    stage = 0\n",
    "    M = 0\n",
    "    \n",
    "    G = nx.complete_graph(N)\n",
    "    \n",
    "    return G"
   ]
  },
  {
   "cell_type": "code",
   "execution_count": 9,
   "metadata": {},
   "outputs": [],
   "source": [
    "def generate_karate(N, M, stage):\n",
    "    '''Generates a karate club network\n",
    "    #Parameters\n",
    "    N: number of participants \n",
    "    M: number of participants per group\n",
    "    stage: stage in the ;earning process\n",
    "    \n",
    "    #Returns \n",
    "    a karate club network\n",
    "    '''\n",
    "    stage = 0\n",
    "    N = 0\n",
    "    M = 0\n",
    "    \n",
    "    G =  nx.karate_club_graph()\n",
    "    \n",
    "    return G"
   ]
  },
  {
   "cell_type": "code",
   "execution_count": 10,
   "metadata": {},
   "outputs": [],
   "source": [
    "def generate_sw(N, M, stage):\n",
    "    '''Generates a small world network\n",
    "    #Parameters\n",
    "    N: number of participants \n",
    "    M: number of participants per group\n",
    "    stage: stage in the ;earning process\n",
    "    \n",
    "    #Returns \n",
    "    a SW network\n",
    "    '''\n",
    "    stage = 0\n",
    "    M = 0\n",
    "    \n",
    "    G = nx.watts_strogatz_graph(N, 4, 0.1)\n",
    "    \n",
    "    return G"
   ]
  },
  {
   "cell_type": "code",
   "execution_count": 11,
   "metadata": {},
   "outputs": [],
   "source": [
    "def generate_preferential(N, M, stage):\n",
    "    '''Generates a small world network\n",
    "    #Parameters\n",
    "    N: number of participants \n",
    "    M: number of participants per group\n",
    "    stage: stage in the ;earning process\n",
    "    \n",
    "    #Returns \n",
    "    a preferential attachment network\n",
    "    '''\n",
    "    stage = 0\n",
    "    M = 0\n",
    "    \n",
    "    G = nx.barabasi_albert_graph(N, 1)\n",
    "    \n",
    "    return G"
   ]
  },
  {
   "cell_type": "markdown",
   "metadata": {},
   "source": [
    "## run_trial"
   ]
  },
  {
   "cell_type": "raw",
   "metadata": {},
   "source": [
    "It should take the graph, the learning function, initial beliefs, and any other relevant parameters. It should then plot the fraction correct."
   ]
  },
  {
   "cell_type": "code",
   "execution_count": 27,
   "metadata": {
    "scrolled": true
   },
   "outputs": [],
   "source": [
    "def run_trial(Graph, learning_strategy, true_value):\n",
    "    \"\"\"\n",
    "    Plots the fraction of correct nodes in all stages of a simulation\n",
    "    \n",
    "    #Parameters:\n",
    "    G: topology\n",
    "    learning strategy: learning strategy to simulate in topology\n",
    "    intial beliefs are generated inside the topology: prarms (G, true_value, p_error)\n",
    "    true_value = the ground truth \n",
    "    plot: plotting function used to plot beliefs  (fixed for now)\n",
    "    stages: for now is fixed, eventually will change. (fixed for now) \n",
    "    \n",
    "    return\n",
    "    plots the beliefs all stages\n",
    "    \"\"\"\n",
    "\n",
    "    N = 100 #num of participants(nodes)\n",
    "    M = 5 #group size\n",
    "    stages = 5  #stages\n",
    "    steps = 5 #number of steps in each learning stratey\n",
    "\n",
    "    beliefs_stages = []\n",
    "    #print(\"To keep beliefs after stages\", beliefs_stages)\n",
    "    \n",
    "    \n",
    "    for stage in range(stages):\n",
    "        G = Graph(N, M, stage)\n",
    "        if stage == 0: \n",
    "            ini_beliefs = initial_beliefs_noisy(G, true_value, p_error= .40)\n",
    "            beliefs_stages = [ini_beliefs]\n",
    "            #print(\"Stage #\", stage)\n",
    "            #print(\"The initial beliefs at stage\", stage, \"are\", ini_beliefs)\n",
    "            beliefs_list =  learn(G, ini_beliefs, learning_step_best_neighbor, true_value, steps)\n",
    "            beliefs_stages += beliefs_list\n",
    "            #print(\"Beliefs at stage\", stage, \"after learn() are\", beliefs_stages)\n",
    "\n",
    "        else:\n",
    "            sub_ini_beliefs = beliefs_stages[-1]\n",
    "            #print(\"Stage #\", stage)\n",
    "            #print(\"The initial beliefs at stage\", stage, \"are\", sub_ini_beliefs)\n",
    "            beliefs_list = learn(G, sub_ini_beliefs, learning_step_best_neighbor, true_value, steps)\n",
    "            beliefs_stages += beliefs_list\n",
    "            #print(\"Beliefs at\", stage, \"after learn() are\", beliefs_stages)\n",
    "    plot_beliefs_correct(beliefs_stages, true_value)"
   ]
  },
  {
   "cell_type": "code",
   "execution_count": 28,
   "metadata": {
    "scrolled": true
   },
   "outputs": [],
   "source": [
    "networks = {\n",
    "    'Long Path': generate_long_path,\n",
    "    'Random Path': generate_random_path,\n",
    "    'Complete Graph': generate_complete,\n",
    "    'Preferential Attachment': generate_preferential,\n",
    "    'Small World': generate_sw,\n",
    "    'Karate Club': generate_karate}"
   ]
  },
  {
   "cell_type": "code",
   "execution_count": 29,
   "metadata": {
    "scrolled": false
   },
   "outputs": [
    {
     "name": "stderr",
     "output_type": "stream",
     "text": [
      "No handles with labels found to put in legend.\n",
      "No handles with labels found to put in legend.\n",
      "No handles with labels found to put in legend.\n",
      "No handles with labels found to put in legend.\n",
      "No handles with labels found to put in legend.\n",
      "No handles with labels found to put in legend.\n"
     ]
    },
    {
     "data": {
      "image/png": "[encoded data removed]",
      "text/plain": [
       "<Figure size 540x540 with 6 Axes>"
      ]
     },
     "metadata": {},
     "output_type": "display_data"
    }
   ],
   "source": [
    "for i, (title, Graph) in enumerate(networks.items()):\n",
    "    plt.subplot(3, 2, i + 1)\n",
    "    plt.title(title)\n",
    "    run_trial(Graph, learning_step_best_neighbor, true_value = [1, 1, 1, 1, 1, 1, 1])\n",
    "plt.tight_layout()"
   ]
  },
  {
   "cell_type": "code",
   "execution_count": null,
   "metadata": {},
   "outputs": [],
   "source": []
  },
  {
   "cell_type": "markdown",
   "metadata": {},
   "source": [
    "# Old plotting"
   ]
  },
  {
   "cell_type": "raw",
   "metadata": {},
   "source": [
    "G = random_topology\n",
    "learning_strategy = learning_step_best_neighbor\n",
    "true_value = [1, 1, 1, 0, 1, 1]\n",
    "plt.subplot(3,1,1)\n",
    "plt.xticks(np.arange(0, 25 ,5))\n",
    "plt.title(\"Random Topology: Best neighbor\")\n",
    "run_trial(G, learning_strategy, true_value)\n",
    "\n",
    "\n",
    "G = long_path_topology\n",
    "learning_strategy = learning_step_best_neighbor\n",
    "true_value = [1, 1, 1, 0, 1, 0]\n",
    "plt.subplot(3,1,2)\n",
    "plt.xticks(np.arange(0, 25 ,5))\n",
    "plt.title(\"Long Topology: Best neighbor\")\n",
    "run_trial(G, learning_strategy, true_value)\n",
    "\n",
    "G = clique_topology\n",
    "learning_strategy = learning_step_best_neighbor\n",
    "true_value = [1, 1, 1, 0, 1, 0]\n",
    "plt.subplot(3,1,3)\n",
    "plt.xticks(np.arange(0, 25 ,5))\n",
    "plt.title(\"Complete Topology: Best neighbor\")\n",
    "run_trial(G, learning_strategy, true_value)"
   ]
  },
  {
   "cell_type": "raw",
   "metadata": {},
   "source": [
    "#(options = clique, long path and random)\n",
    "G = clique_topology \n",
    "#(options = rand_neighbor_list, random_neighbor_bit, most_popular_list, learning_step_best_neighbor, learning_step_bit_majority)\n",
    "learning_strategy = random_neighbor_bit\n",
    "#(options= change as needed)\n",
    "true_value = [1, 1, 1]\n",
    "steps = 25\n",
    "\n",
    "#change as needed\n",
    "plt.subplot(2, 3, 1)\n",
    "plt.xticks(np.arange(1, steps))\n",
    "plt.title(\"Clique Topology: Random neighbor bit\")\n",
    "run_trial(G, learning_strategy, true_value)\n",
    "\n",
    "\n",
    "plt.subplot(2, 3, 2)\n",
    "plt.title(\"Long Path Topology: Random neighbor bit\")\n",
    "run_trial(long_path_topology, learning_strategy, true_value)\n",
    "\n",
    "\n",
    "plt.subplot(2, 3, 3)\n",
    "plt.title(\"Random Topology: Random neighbor bit\")\n",
    "run_trial(random_topology, learning_strategy, true_value)\n",
    "\n"
   ]
  },
  {
   "cell_type": "raw",
   "metadata": {},
   "source": [
    "#(options = clique, long path and random)\n",
    "G = clique_topology \n",
    "#(options = rand_neighbor_list, random_neighbor_bit, most_popular_list, learning_step_best_neighbor, learning_step_bit_majority)\n",
    "learning_strategy = most_popular_list \n",
    "#(options= change as needed)\n",
    "true_value = [1, 1, 1]\n",
    "\n",
    "#change as needed\n",
    "plt.subplot(2, 3, 1)\n",
    "plt.title(\"Clique Topology: Most popular list\")\n",
    "run_trial(G, learning_strategy, true_value)\n",
    "\n",
    "\n",
    "plt.subplot(2, 3, 2)\n",
    "plt.title(\"Long Path Topology: Most popular list\")\n",
    "run_trial(long_path_topology, learning_strategy, true_value)\n",
    "\n",
    "\n",
    "plt.subplot(2, 3, 3)\n",
    "plt.title(\"Random Topology: Most popular list\")\n",
    "run_trial(random_topology, learning_strategy, true_value)\n"
   ]
  },
  {
   "cell_type": "raw",
   "metadata": {},
   "source": [
    "#(options = clique, long path and random)\n",
    "G = clique_topology \n",
    "#(options = rand_neighbor_list, random_neighbor_bit, most_popular_list, learning_step_best_neighbor, learning_step_bit_majority)\n",
    "learning_strategy = rand_neighbor_list \n",
    "#(options= change as needed)\n",
    "true_value = [1, 1, 1]\n",
    "\n",
    "#change as needed\n",
    "plt.subplot(2, 3, 1)\n",
    "plt.title(\"Clique Topology: Random neighbor list\")\n",
    "run_trial(G, learning_strategy, true_value)\n",
    "\n",
    "\n",
    "plt.subplot(2, 3, 2)\n",
    "plt.title(\"Long Path Topology: Random neighbor list\")\n",
    "run_trial(long_path_topology, learning_strategy, true_value)\n",
    "\n",
    "\n",
    "plt.subplot(2, 3, 3)\n",
    "plt.title(\"Random Topology: Random neighbor list\")\n",
    "run_trial(random_topology, learning_strategy, true_value)"
   ]
  },
  {
   "cell_type": "raw",
   "metadata": {},
   "source": [
    "#(options = clique, long path and random)\n",
    "G = clique_topology \n",
    "#(options = rand_neighbor_list, random_neighbor_bit, most_popular_list, learning_step_best_neighbor, learning_step_bit_majority)\n",
    "learning_strategy = learning_step_best_neighbor \n",
    "#(options= change as needed)\n",
    "true_value = [1, 1, 1]\n",
    "\n",
    "#change as needed\n",
    "plt.subplot(2, 3, 1)\n",
    "plt.title(\"Clique Topology: Best neighbor\")\n",
    "run_trial(G, learning_strategy, true_value)\n",
    "\n",
    "\n",
    "plt.subplot(2, 3, 2)\n",
    "plt.title(\"Long Path Topology: Best neighbor\")\n",
    "run_trial(long_path_topology, learning_strategy, true_value)\n",
    "\n",
    "\n",
    "plt.subplot(2, 3, 3)\n",
    "plt.title(\"Random Topology: Best neighbor\")\n",
    "run_trial(random_topology, learning_strategy, true_value)"
   ]
  },
  {
   "cell_type": "raw",
   "metadata": {},
   "source": [
    "#(options = clique, long path and random)\n",
    "G = clique_topology \n",
    "#(options = rand_neighbor_list, random_neighbor_bit, most_popular_list, learning_step_best_neighbor, learning_step_bit_majority)\n",
    "learning_strategy = learning_step_bit_majority \n",
    "#(options= change as needed)\n",
    "true_value = [1, 1, 1]\n",
    "\n",
    "#change as needed\n",
    "plt.subplot(2, 3, 1)\n",
    "plt.title(\"Clique Topology: Mode per bit\")\n",
    "run_trial(G, learning_strategy, true_value)\n",
    "\n",
    "\n",
    "plt.subplot(2, 3, 2)\n",
    "plt.title(\"Long Path Topology: Mode per  bit\")\n",
    "run_trial(long_path_topology, learning_strategy, true_value)\n",
    "\n",
    "\n",
    "plt.subplot(2, 3, 3)\n",
    "plt.title(\"Random Topology: Mode per bit\")\n",
    "run_trial(random_topology, learning_strategy, true_value)"
   ]
  },
  {
   "cell_type": "markdown",
   "metadata": {},
   "source": [
    "# old plotting code "
   ]
  },
  {
   "cell_type": "raw",
   "metadata": {},
   "source": [
    "#Strategies options \n",
    "    #Mode per bit\n",
    "    #Random neighbor's value per bit \n",
    "    #Random neighbor's list of bits\n",
    "    #Most popular list \n",
    "    #best neighbor\n",
    "\n",
    "true_value = [1] #ground truth \n",
    "long_path_topology(learning_step_bit_majority, true_value)\n",
    "#plt.xticks(np.arange(0, 25 ,2))\n",
    "#plt.title(\"Long Path Topology: Best neighbor\")"
   ]
  },
  {
   "cell_type": "raw",
   "metadata": {},
   "source": [
    "## Generates different topologies\n",
    "def generate_graph(topology, N, M, stage):\n",
    "    '''Generates groups for simulations\n",
    "    #Parameters \n",
    "    topology: takes a function that created the groups, or a clique network.\n",
    "    N: number of participants \n",
    "    M: group size \n",
    "    stages: number of stages of simulation\n",
    "    #Returns a NX graph\n",
    "    '''\n",
    "    if topology == clique_topology: \n",
    "        G = nx.complete_graph(N)\n",
    "        #nx.draw(G)\n",
    "        return G\n",
    "        \n",
    "    groups = topology(N, M, stage)\n",
    "    #print(\"all the groups\", groups)\n",
    "    G = nx.Graph()\n",
    "\n",
    "    for group in groups:\n",
    "        #print(\"group in groups\", group) #nodes to form clique network\n",
    "        g = nx.complete_graph(group) #clique network\n",
    "        #print(\"clique network\", g.nodes())\n",
    "        #nx.draw(g)\n",
    "        G = nx.union(G,g)\n",
    "    #print(\"All the edges in graph G are\", G.nodes())\n",
    "    #nx.draw(G)\n",
    "    return G"
   ]
  },
  {
   "cell_type": "raw",
   "metadata": {},
   "source": [
    "topology = get_random_stage_groups\n",
    "N =100\n",
    "M=5\n",
    "stage =5\n",
    "generate_graph(topology, N, M, stage)"
   ]
  },
  {
   "cell_type": "raw",
   "metadata": {},
   "source": [
    "G = nx.karate_club_graph()\n",
    "plt.subplot(1, 1, 1)\n",
    "plt.title(\"Karate club\")\n",
    "true_value=[1, 0, 1, 0, 1]\n",
    "\n",
    "ini_beliefs = initial_beliefs_noisy(G, true_value, p_error= .20)\n",
    "\n",
    "\n",
    "beliefs_list =  learn(G, ini_beliefs, most_popular_list, true_value, steps = 100)\n",
    "plot_beliefs_correct(beliefs_list, true_value)"
   ]
  },
  {
   "cell_type": "raw",
   "metadata": {},
   "source": [
    "G = nx.karate_club_graph()\n",
    "plt.subplot(1, 4, 1)\n",
    "plt.title(\"Karate club\")\n",
    "true_value = [1, 0, 1, 0, 1]\n",
    "ini_beliefs = initial_beliefs_noisy(G, true_value, p_error= .20)\n",
    "\n",
    "beliefs_list =  learn(G, ini_beliefs, rand_neighbor_list, true_value, steps = 100)\n",
    "plot_beliefs_correct(beliefs_list, true_value)\n",
    "\n",
    "plt.subplot(1, 4, 2)\n",
    "beliefs_list =  learn(G, ini_beliefs, random_neighbor_bit, true_value, steps = 100)\n",
    "plot_beliefs_correct(beliefs_list, true_value)\n",
    "\n",
    "plt.subplot(1, 4, 3)\n",
    "beliefs_list =  learn(G, ini_beliefs, most_popular_list, true_value, steps = 100)\n",
    "plot_beliefs_correct(beliefs_list, true_value)\n",
    "\n",
    "plt.subplot(1, 4, 4)\n",
    "beliefs_list =  learn(G, ini_beliefs, learning_step_best_neighbor, true_value, steps = 100)\n",
    "plot_beliefs_correct(beliefs_list, true_value)\n",
    "\n",
    "\n",
    "#plot_belief_bits_correct(beliefs_list, true_value = [1, 0, 1, 0, 1])\n",
    "plt.tight_layout()"
   ]
  },
  {
   "cell_type": "raw",
   "metadata": {},
   "source": [
    "G = nx.karate_club_graph()\n",
    "plt.subplot(1, 1, 1)\n",
    "plt.title(\"Karate club\")\n",
    "true_value=[1, 0, 1, 0, 1]\n",
    "\n",
    "ini_beliefs = initial_beliefs_noisy(G, true_value, p_error= .40)\n",
    "beliefs_list =  learn(G, ini_beliefs, learning_step_bit_majority, true_value, steps = 10)\n",
    "plot_beliefs_correct(beliefs_list, true_value)\n",
    "plt.tight_layout()"
   ]
  },
  {
   "cell_type": "raw",
   "metadata": {},
   "source": [
    "G = nx.karate_club_graph()\n",
    "plt.subplot(1, 1, 1)\n",
    "plt.title(\"Karate club\")\n",
    "true_value=[1, 0, 1, 0, 1]\n",
    "\n",
    "ini_beliefs = initial_beliefs_noisy(G, true_value, p_error= .40)\n",
    "beliefs_list =  learn(G, ini_beliefs, random_neighbor_bit, true_value, steps = 10)\n",
    "plot_beliefs_correct(beliefs_list, true_value)\n",
    "plt.tight_layout()"
   ]
  },
  {
   "cell_type": "markdown",
   "metadata": {},
   "source": [
    "# old code "
   ]
  },
  {
   "cell_type": "raw",
   "metadata": {},
   "source": [
    "N = 100 # number of participants \n",
    "\n",
    "#Network options\n",
    "    #G = nx.karate_club_graph()\n",
    "    #nx.draw(G)\n",
    "\n",
    "    #G = nx.barabasi_albert_graph(N, 1)\n",
    "    #nx.draw(G)\n",
    "\n",
    "    #G = nx.watts_strogatz_graph(N, 4, 0)\n",
    "    #nx.draw(G)\n",
    "\n",
    "Graph = nx.complete_graph(N)\n",
    "    #nx.draw(G)\n",
    "\n",
    "#Strategies options \n",
    "    #Mode per bit\n",
    "    #Random neighbor's value per bit \n",
    "    #Random neighbor's list of bits\n",
    "    #Most popular list \n",
    "    #best neighbor\n",
    "\n",
    "\n",
    "true_value = [1, 0, 1, 1] #ground truth \n",
    "traditional_nk(Graph, learning_step_best_neighbor, true_value)"
   ]
  },
  {
   "cell_type": "raw",
   "metadata": {},
   "source": [
    "#Strategies options \n",
    "    #Mode per bit\n",
    "    #Random neighbor's value per bit \n",
    "    #Random neighbor's list of bits\n",
    "    #Most popular list \n",
    "    #best neighbor\n",
    "\n",
    "Graph = generate_random_path #or generate_long_path\n",
    "true_value = [1, 0, 1, 0, 1, 1] #ground truth \n",
    "get_topology(Graph, learning_step_best_neighbor, true_value)"
   ]
  },
  {
   "cell_type": "raw",
   "metadata": {},
   "source": [
    "def get_topology(G, learning_strategy, true_value):\n",
    "\n",
    "    if generate_long_path:\n",
    "\n",
    "   \n",
    "    elif generate_random_path:\n",
    "        for stage in range(stages):\n",
    "            G = Graph(N, M, stage)\n",
    "            if stage == 0: \n",
    "                ini_beliefs = initial_beliefs_noisy(G, true_value, p_error= .40)\n",
    "                beliefs_stages = [ini_beliefs]\n",
    "                #print(\"Stage #\", stage)\n",
    "                #print(\"The initial beliefs at stage\", stage, \"are\", ini_beliefs)\n",
    "                beliefs_list =  learn(G, ini_beliefs, learning_step_best_neighbor, true_value, steps)\n",
    "                beliefs_stages += beliefs_list\n",
    "                #print(\"Beliefs at stage\", stage, \"after learn() are\", beliefs_stages)\n",
    "\n",
    "            else:\n",
    "                sub_ini_beliefs = beliefs_stages[-1]\n",
    "                #print(\"Stage #\", stage)\n",
    "                #print(\"The initial beliefs at stage\", stage, \"are\", sub_ini_beliefs)\n",
    "                beliefs_list = learn(G, sub_ini_beliefs, learning_step_best_neighbor, true_value, steps)\n",
    "                beliefs_stages += beliefs_list\n",
    "                #print(\"Beliefs at\", stage, \"after learn() are\", beliefs_stages)}}\n",
    "    else: \n",
    "        for stage in range(stages): \n",
    "            if stage == 0: \n",
    "                ini_beliefs = initial_beliefs_noisy(G, true_value, p_error= .40)\n",
    "                beliefs_stages = [ini_beliefs]\n",
    "                #print(\"Stage #\", stage)\n",
    "                #print(\"The initial beliefs at stage\", stage, \"are\", ini_beliefs)\n",
    "                beliefs_list =  learn(G, ini_beliefs, learning_strategy, true_value, steps)\n",
    "                beliefs_stages += beliefs_list\n",
    "                #print(\"Beliefs at stage\", stage, \"after learn() are\", beliefs_stages)\n",
    "\n",
    "            else:\n",
    "                sub_ini_beliefs = beliefs_stages[-1]\n",
    "                #print(\"Stage #\", stage)\n",
    "                #print(\"The initial beliefs at stage\", stage, \"are\", sub_ini_beliefs)\n",
    "                beliefs_list = learn(G, sub_ini_beliefs, learning_strategy, true_value, steps)\n",
    "                beliefs_stages += beliefs_list\n",
    "                #print(\"Beliefs at\", stage, \"after learn() are\", beliefs_stages)\n",
    "    return beliefs_stages\n",
    "    #plot_beliefs_correct(beliefs_stages, true_value)\n",
    "    #plt.xticks(np.arange(0,stages*steps + 1, 1))"
   ]
  },
  {
   "cell_type": "raw",
   "metadata": {},
   "source": [
    "def clique_topology(learning_strategy, true_value):\n",
    "    '''Simulates a learning strategy in a given network\n",
    "    #Paramaters \n",
    "    G: different networks (SW, karate, Preferential attachment, and complete graph)\n",
    "    learning strategy: the algortihm used to update participants beliefs over time \n",
    "    true value: the ground truth each participant is trying to reach\n",
    "    \n",
    "    #Return \n",
    "    the beliefs at all stages \n",
    "    '''\n",
    "    stages = 5  #stages\n",
    "    steps = 5 #number of steps in each learning stratey\n",
    "\n",
    "    beliefs_stages = []\n",
    "    #print(\"To keep beliefs after stages\", beliefs_stages)\n",
    "    \n",
    "    G = nx.complete_graph(100)\n",
    "    #nx.draw(G)\n",
    "\n",
    "    for stage in range(stages): \n",
    "        if stage == 0: \n",
    "            ini_beliefs = initial_beliefs_noisy(G, true_value, p_error= .40)\n",
    "            beliefs_stages = [ini_beliefs]\n",
    "            #print(\"Stage #\", stage)\n",
    "            #print(\"The initial beliefs at stage\", stage, \"are\", ini_beliefs)\n",
    "            beliefs_list =  learn(G, ini_beliefs, learning_strategy, true_value, steps)\n",
    "            beliefs_stages += beliefs_list\n",
    "            #print(\"Beliefs at stage\", stage, \"after learn() are\", beliefs_stages)\n",
    "\n",
    "        else:\n",
    "            sub_ini_beliefs = beliefs_stages[-1]\n",
    "            #print(\"Stage #\", stage)\n",
    "            #print(\"The initial beliefs at stage\", stage, \"are\", sub_ini_beliefs)\n",
    "            beliefs_list = learn(G, sub_ini_beliefs, learning_strategy, true_value, steps)\n",
    "            beliefs_stages += beliefs_list\n",
    "            #print(\"Beliefs at\", stage, \"after learn() are\", beliefs_stages)\n",
    "    return beliefs_stages\n",
    "    #plot_beliefs_correct(beliefs_stages, true_value)"
   ]
  },
  {
   "cell_type": "raw",
   "metadata": {},
   "source": [
    "def long_path_topology(learning_strategy, true_value):\n",
    "    '''Simulates a learning strategy in a long path network \n",
    "    #Paramaters \n",
    "    learning strategy: the algortihm use to update participants beliefs over time \n",
    "    true value: the ground truth each participant is trying to reach\n",
    "    \n",
    "    #Return \n",
    "    graph beliefs at all stages \n",
    "    \n",
    "    '''\n",
    "\n",
    "    ##Uses a long path topology\n",
    "\n",
    "    N = 500 #num of participants(nodes)\n",
    "    M = 5 #group size\n",
    "    stages = 5  #stages\n",
    "    steps = 5 #number of steps in each learning stratey\n",
    "\n",
    "    beliefs_stages = []\n",
    "    #print(\"To keep beliefs after stages\", beliefs_stages)\n",
    "    \n",
    "    \n",
    "    for stage in range(stages):\n",
    "        G = generate_long_path(N, M, stage)\n",
    "        if stage == 0: \n",
    "            ini_beliefs = initial_beliefs_noisy(G, true_value, p_error= .40)\n",
    "            beliefs_stages = [ini_beliefs]\n",
    "            #print(\"Stage #\", stage)\n",
    "            #print(\"The initial beliefs at stage\", stage, \"are\", ini_beliefs)\n",
    "            beliefs_list =  learn(G, ini_beliefs, most_popular_list, true_value, steps)\n",
    "            beliefs_stages += beliefs_list\n",
    "            #print(\"Beliefs at stage\", stage, \"after learn() are\", beliefs_stages)\n",
    "\n",
    "        else:\n",
    "            sub_ini_beliefs = beliefs_stages[-1]\n",
    "            #print(\"Stage #\", stage)\n",
    "            #print(\"The initial beliefs at stage\", stage, \"are\", sub_ini_beliefs)\n",
    "            beliefs_list = learn(G, sub_ini_beliefs, most_popular_list, true_value, steps)\n",
    "            beliefs_stages += beliefs_list\n",
    "            #print(\"Beliefs at\", stage, \"after learn() are\", beliefs_stages)\n",
    "    return beliefs_stages\n",
    "    #plot_beliefs_correct(beliefs_stages, true_value)"
   ]
  },
  {
   "cell_type": "raw",
   "metadata": {},
   "source": [
    "def random_topology(learning_strategy, true_value):\n",
    "    '''Simulates a learning strategy in a random network \n",
    "    #Paramaters \n",
    "    learning strategy: the algortihm use to update participants beliefs over time \n",
    "    true value: the groun truth each participant is trying to reach\n",
    "    \n",
    "    #Return \n",
    "    graph beliefs at all stages in a random topology \n",
    "    '''\n",
    "\n",
    "    N = 100 #num of participants(nodes)\n",
    "    M = 5 #group size\n",
    "    stages = 5  #stages\n",
    "    steps = 5 #number of steps in each learning stratey\n",
    "\n",
    "    beliefs_stages = []\n",
    "    #print(\"To keep beliefs after stages\", beliefs_stages)\n",
    "\n",
    "    for stage in range(stages):\n",
    "        G = generate_random_path(N, M, stage)\n",
    "        if stage == 0: \n",
    "            ini_beliefs = initial_beliefs_noisy(G, true_value, p_error= .40)\n",
    "            beliefs_stages = [ini_beliefs]\n",
    "            #print(\"Stage #\", stage)\n",
    "            #print(\"The initial beliefs at stage\", stage, \"are\", ini_beliefs)\n",
    "            beliefs_list =  learn(G, ini_beliefs, learning_step_best_neighbor, true_value, steps)\n",
    "            beliefs_stages += beliefs_list\n",
    "            #print(\"Beliefs at stage\", stage, \"after learn() are\", beliefs_stages)\n",
    "\n",
    "        else:\n",
    "            sub_ini_beliefs = beliefs_stages[-1]\n",
    "            #print(\"Stage #\", stage)\n",
    "            #print(\"The initial beliefs at stage\", stage, \"are\", sub_ini_beliefs)\n",
    "            beliefs_list = learn(G, sub_ini_beliefs, learning_step_best_neighbor, true_value, steps)\n",
    "            beliefs_stages += beliefs_list\n",
    "            #print(\"Beliefs at\", stage, \"after learn() are\", beliefs_stages)\n",
    "    \n",
    "    return beliefs_stages\n",
    "    #plot_beliefs_correct(beliefs_stages, true_value)\n",
    "    #plt.xticks(np.arange(0,stages*steps + 1, 1))"
   ]
  },
  {
   "cell_type": "code",
   "execution_count": null,
   "metadata": {
    "scrolled": true
   },
   "outputs": [],
   "source": []
  },
  {
   "cell_type": "raw",
   "metadata": {},
   "source": [
    "G = sg.subgraph(nodes)\n",
    "plt.subplot(1, 1, 1)\n",
    "plt.title(\"Karate club\")\n",
    "true_value = [1, 0, 1, 0, 1]\n",
    "ini_beliefs = initial_beliefs_noisy(G, true_value, p_error= .20)\n",
    "\n",
    "beliefs_list =  learn(G, ini_beliefs, learning_step_best_neighbor, true_value, steps = 500)\n",
    "plot_beliefs_correct(beliefs_list, true_value)"
   ]
  },
  {
   "cell_type": "raw",
   "metadata": {},
   "source": [
    "def create_clique_network(G, beliefs_list, stage):\n",
    "    \"\"\"Takes a graph and makes cliques\n",
    "    \n",
    "    #Params \n",
    "    G: graph that will be use to make cliques \n",
    "    belief_list: list of beliefs \n",
    "    degree: number of degrees require to form cliques?\n",
    "    stage: stages of learning\n",
    "    \n",
    "    Return \n",
    "    list of beliefs\n",
    "    \"\"\"\n",
    "    beliefs = []\n",
    "    \n",
    "    cliques1 = list(nx.find_cliques(G))\n",
    "    print(cliques1)\n",
    "\n",
    "     #Find all cliques of degree (clq) X (here 4) or more nodes:\n",
    "    cliques = nx.find_cliques(G)\n",
    "    cliques4 = [clq for clq in cliques if len(clq) >= 4]\n",
    "    print(\"Cliques with degree 4 or higher\", cliques4)\n",
    "\n",
    "\n",
    "    #subgraph of g from all sufficiently large cliques:\n",
    "    nodes = set(v for clq in cliques4 for v in clq)\n",
    "    clq_sub_graph = G.subgraph(nodes)\n",
    "    print(\"Nodes of subgraph where each node has degree 4:\", clq_sub_graph.nodes())\n",
    "\n",
    "    #Drop nodes of clq_sub_graph which have degree less than 4:\n",
    "    deg = nx.degree(clq_sub_graph)\n",
    "    nodes = [v for v in nodes if deg[v] >= 4]\n",
    "    print(\"Nodes\",nodes)\n",
    "\n",
    "    #The desired graph sg is the subgraph of clq_sub_graph with nodes:\n",
    "    sg = clq_sub_graph.subgraph(nodes)\n",
    "\n",
    "    #resulting graph:\n",
    "    nx.draw(sg)\n",
    "\n",
    "    return beliefs\n",
    "    "
   ]
  },
  {
   "cell_type": "raw",
   "metadata": {},
   "source": [
    "G = nx.karate_club_graph()\n",
    "cliques1 = list(nx.find_cliques(G))\n",
    "print(cliques1)\n",
    "\n",
    " #Find all cliques of degree (clq) X (here 4) or more nodes:\n",
    "cliques = nx.find_cliques(G)\n",
    "cliques4 = [clq for clq in cliques if len(clq) >= 4]\n",
    "print(\"Cliques with degree 4 or higher\", cliques4)\n",
    "\n",
    "\n",
    " #subgraph of g from all sufficiently large cliques:\n",
    "nodes = set(v for clq in cliques4 for v in clq)\n",
    "clq_sub_graph = G.subgraph(nodes)\n",
    "print(\"Nodes of subgraph where each node has degree 4:\", clq_sub_graph.nodes())\n",
    "\n",
    " #Drop nodes of clq_sub_graph which have degree less than 4:\n",
    "deg = nx.degree(clq_sub_graph)\n",
    "nodes = [v for v in nodes if deg[v] >= 4]\n",
    "print(\"Nodes\",nodes)\n",
    "\n",
    "#The desired graph sg is the subgraph of clq_sub_graph with nodes:\n",
    "sg = clq_sub_graph.subgraph(nodes)\n",
    "\n",
    "#resulting graph:\n",
    "nx.draw(sg)"
   ]
  },
  {
   "cell_type": "raw",
   "metadata": {},
   "source": [
    "### G = nx.complete_graph(9)\n",
    "len(G)\n",
    "G.size()\n",
    "\n",
    "G = nx.complete_graph(range(11, 14))\n",
    "list(G.nodes())\n",
    "#nx.draw(G)\n",
    "\n",
    "beliefs_stages = []\n",
    "print(\"To keep beliefs after stages\", beliefs_stages)\n",
    "\n",
    "stages = 5\n",
    "true_value = [1, 0, 1, 0, 1]\n",
    "steps = 10\n",
    "\n",
    "\n",
    "for stage in range(stages + 1): \n",
    "    #get groups from one of grouping functions\n",
    "    get_long_path_stage_groups()\n",
    "    \n",
    "    if stage == 1: \n",
    "        ini_beliefs = initial_beliefs_noisy(G, true_value, p_error= .40)\n",
    "        print(\"Stage #\", stage)\n",
    "        print(\"Stage\", stage, \"beliefs are\", ini_beliefs)\n",
    "        beliefs_list =  learn(G, ini_beliefs, random_neighbor_bit, true_value, steps)\n",
    "        beliefs_stages.append(beliefs_list)\n",
    "        print(\"stage\", stage, \"beliefs\", beliefs_stages)\n",
    "        \n",
    "    if stage > 1: \n",
    "        sub_ini_beliefs = beliefs_list[-1]\n",
    "        print(\"Stage #\", stage)\n",
    "        print(\"Ini beliefs are\", sub_ini_beliefs)\n",
    "        sub_beliefs_list = learn(G, sub_ini_beliefs, random_neighbor_bit, true_value, steps)\n",
    "        beliefs_stages.append(sub_beliefs_list)\n",
    "        print(\"stage\", stage, \"beliefs\", beliefs_stages)\n",
    "        \n",
    "print(\"beliefs of each stage\", beliefs_stages)\n",
    "\n",
    "plot_beliefs_correct(beliefs_list, true_value)"
   ]
  },
  {
   "cell_type": "raw",
   "metadata": {},
   "source": [
    "g = nx.complete_graph({2,5,6})\n",
    "nx.draw_networkx(g, with_lables=True)"
   ]
  },
  {
   "cell_type": "code",
   "execution_count": null,
   "metadata": {
    "scrolled": true
   },
   "outputs": [],
   "source": []
  }
 ],
 "metadata": {
  "kernelspec": {
   "display_name": "Python 3",
   "language": "python",
   "name": "python3"
  },
  "language_info": {
   "codemirror_mode": {
    "name": "ipython",
    "version": 3
   },
   "file_extension": ".py",
   "mimetype": "text/x-python",
   "name": "python",
   "nbconvert_exporter": "python",
   "pygments_lexer": "ipython3",
   "version": "3.6.5"
  }
 },
 "nbformat": 4,
 "nbformat_minor": 2
}
